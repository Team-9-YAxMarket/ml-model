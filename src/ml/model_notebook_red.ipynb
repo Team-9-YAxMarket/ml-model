{
 "cells": [
  {
   "cell_type": "code",
   "execution_count": 91,
   "metadata": {
    "colab": {
     "base_uri": "https://localhost:8080/"
    },
    "id": "T5RM8xe_twaX",
    "outputId": "1de5ab64-9144-481a-cc85-bd4943350873"
   },
   "outputs": [
    {
     "name": "stdout",
     "output_type": "stream",
     "text": [
      "Requirement already satisfied: catboost in c:\\users\\user\\anaconda3\\lib\\site-packages (1.1.1)\n",
      "Requirement already satisfied: pandas>=0.24.0 in c:\\users\\user\\anaconda3\\lib\\site-packages (from catboost) (1.4.4)\n",
      "Requirement already satisfied: plotly in c:\\users\\user\\anaconda3\\lib\\site-packages (from catboost) (5.9.0)\n",
      "Requirement already satisfied: graphviz in c:\\users\\user\\anaconda3\\lib\\site-packages (from catboost) (0.20.1)\n",
      "Requirement already satisfied: numpy>=1.16.0 in c:\\users\\user\\anaconda3\\lib\\site-packages (from catboost) (1.21.5)\n",
      "Requirement already satisfied: scipy in c:\\users\\user\\anaconda3\\lib\\site-packages (from catboost) (1.9.1)\n",
      "Requirement already satisfied: six in c:\\users\\user\\anaconda3\\lib\\site-packages (from catboost) (1.16.0)\n",
      "Requirement already satisfied: matplotlib in c:\\users\\user\\anaconda3\\lib\\site-packages (from catboost) (3.5.2)\n",
      "Requirement already satisfied: pytz>=2020.1 in c:\\users\\user\\anaconda3\\lib\\site-packages (from pandas>=0.24.0->catboost) (2022.1)\n",
      "Requirement already satisfied: python-dateutil>=2.8.1 in c:\\users\\user\\anaconda3\\lib\\site-packages (from pandas>=0.24.0->catboost) (2.8.2)\n",
      "Requirement already satisfied: pyparsing>=2.2.1 in c:\\users\\user\\anaconda3\\lib\\site-packages (from matplotlib->catboost) (3.0.9)\n",
      "Requirement already satisfied: cycler>=0.10 in c:\\users\\user\\anaconda3\\lib\\site-packages (from matplotlib->catboost) (0.11.0)\n",
      "Requirement already satisfied: kiwisolver>=1.0.1 in c:\\users\\user\\anaconda3\\lib\\site-packages (from matplotlib->catboost) (1.4.2)\n",
      "Requirement already satisfied: packaging>=20.0 in c:\\users\\user\\anaconda3\\lib\\site-packages (from matplotlib->catboost) (21.3)\n",
      "Requirement already satisfied: pillow>=6.2.0 in c:\\users\\user\\anaconda3\\lib\\site-packages (from matplotlib->catboost) (9.2.0)\n",
      "Requirement already satisfied: fonttools>=4.22.0 in c:\\users\\user\\anaconda3\\lib\\site-packages (from matplotlib->catboost) (4.25.0)\n",
      "Requirement already satisfied: tenacity>=6.2.0 in c:\\users\\user\\anaconda3\\lib\\site-packages (from plotly->catboost) (8.0.1)\n"
     ]
    },
    {
     "name": "stderr",
     "output_type": "stream",
     "text": [
      "WARNING: Ignoring invalid distribution -rotobuf (c:\\users\\user\\anaconda3\\lib\\site-packages)\n",
      "WARNING: Ignoring invalid distribution -rotobuf (c:\\users\\user\\anaconda3\\lib\\site-packages)\n",
      "WARNING: Ignoring invalid distribution -rotobuf (c:\\users\\user\\anaconda3\\lib\\site-packages)\n",
      "WARNING: Ignoring invalid distribution -rotobuf (c:\\users\\user\\anaconda3\\lib\\site-packages)\n",
      "WARNING: Ignoring invalid distribution -rotobuf (c:\\users\\user\\anaconda3\\lib\\site-packages)\n",
      "WARNING: Ignoring invalid distribution -rotobuf (c:\\users\\user\\anaconda3\\lib\\site-packages)\n"
     ]
    }
   ],
   "source": [
    "import pandas as pd\n",
    "import seaborn as sns\n",
    "import matplotlib.pyplot as plt\n",
    "import numpy as np\n",
    "from sklearn.model_selection import train_test_split\n",
    "from sklearn.preprocessing import LabelEncoder\n",
    "! pip install catboost\n",
    "from catboost import CatBoostClassifier\n",
    "from sklearn.metrics import roc_auc_score, f1_score\n",
    "from sklearn.metrics import ConfusionMatrixDisplay \n",
    "import pickle\n",
    "from pickle import load"
   ]
  },
  {
   "attachments": {},
   "cell_type": "markdown",
   "metadata": {},
   "source": [
    "# Описание проекта "
   ]
  },
  {
   "attachments": {},
   "cell_type": "markdown",
   "metadata": {},
   "source": [
    "Для маркетплейса необходимо разработать модель, которая будет помогать работнику на складе выбирать упаковку для заказанного товара, это позволить увеличить производительность работника и сэкономит его время. Модель должна предложить упаковку которая максимально соответсвует размерам заказанного товара и содержанию заказа.\n",
    "\n",
    "Таким образом, стоит задача мультиклассовой классификации."
   ]
  },
  {
   "attachments": {},
   "cell_type": "markdown",
   "metadata": {},
   "source": [
    "# План работы над проектом:"
   ]
  },
  {
   "attachments": {},
   "cell_type": "markdown",
   "metadata": {},
   "source": [
    "- выгрузить данные, представленные заказчиком и изучить их\n",
    "- выявить закономерности, влияющие на выбор упаковки\n",
    "- изучить данные об упаковках\n",
    "- сгенирировать целевой признак на основе имеющейся информации\n",
    "- разделить выборки на тестовую и обучающую\n",
    "- обучить модель\n",
    "- исследовать мерики качества "
   ]
  },
  {
   "cell_type": "code",
   "execution_count": 3,
   "metadata": {
    "id": "UoZePnGftwaa"
   },
   "outputs": [],
   "source": [
    "# Установка опции для отображения всех столбцов\n",
    "pd.set_option('display.max_columns', None)"
   ]
  },
  {
   "attachments": {},
   "cell_type": "markdown",
   "metadata": {
    "id": "BgbFE_PRtwaj"
   },
   "source": [
    "# Загрузка"
   ]
  },
  {
   "attachments": {},
   "cell_type": "markdown",
   "metadata": {
    "id": "FkTVS31Ptwal"
   },
   "source": [
    "## Датасет заказы"
   ]
  },
  {
   "cell_type": "code",
   "execution_count": 5,
   "metadata": {
    "id": "Hpi_GHBptwam"
   },
   "outputs": [],
   "source": [
    "data = pd.read_csv('data.csv')"
   ]
  },
  {
   "cell_type": "code",
   "execution_count": 6,
   "metadata": {
    "id": "ZY-S-a_8twan"
   },
   "outputs": [],
   "source": [
    "data = data.drop(data.columns[0], axis=1) # удалили задвоенный индекс"
   ]
  },
  {
   "cell_type": "code",
   "execution_count": 7,
   "metadata": {
    "colab": {
     "base_uri": "https://localhost:8080/",
     "height": 270
    },
    "id": "HeqD1wYXtwan",
    "outputId": "65bf109a-7f1e-4e50-b792-c0e0df96e91c"
   },
   "outputs": [
    {
     "data": {
      "text/html": [
       "<div>\n",
       "<style scoped>\n",
       "    .dataframe tbody tr th:only-of-type {\n",
       "        vertical-align: middle;\n",
       "    }\n",
       "\n",
       "    .dataframe tbody tr th {\n",
       "        vertical-align: top;\n",
       "    }\n",
       "\n",
       "    .dataframe thead th {\n",
       "        text-align: right;\n",
       "    }\n",
       "</style>\n",
       "<table border=\"1\" class=\"dataframe\">\n",
       "  <thead>\n",
       "    <tr style=\"text-align: right;\">\n",
       "      <th></th>\n",
       "      <th>whs</th>\n",
       "      <th>orderkey</th>\n",
       "      <th>selected_cartontype</th>\n",
       "      <th>box_num</th>\n",
       "      <th>recommended_cartontype</th>\n",
       "      <th>selected_carton</th>\n",
       "      <th>sel_calc_cube</th>\n",
       "      <th>recommended_carton</th>\n",
       "      <th>pack_volume</th>\n",
       "      <th>rec_calc_cube</th>\n",
       "      <th>goods_wght</th>\n",
       "      <th>sku</th>\n",
       "      <th>who</th>\n",
       "      <th>trackingid</th>\n",
       "    </tr>\n",
       "  </thead>\n",
       "  <tbody>\n",
       "    <tr>\n",
       "      <th>0</th>\n",
       "      <td>0</td>\n",
       "      <td>d48f3211c1ffccdc374f23139a9ab668</td>\n",
       "      <td>NONPACK</td>\n",
       "      <td>1</td>\n",
       "      <td>YML</td>\n",
       "      <td>NONPACK</td>\n",
       "      <td>0</td>\n",
       "      <td>YML</td>\n",
       "      <td>2046</td>\n",
       "      <td>108000</td>\n",
       "      <td>0.1</td>\n",
       "      <td>af49bf330e2cf16e44f0be1bdfe337bd</td>\n",
       "      <td>b7325da1af89a46059164618eb03ae38</td>\n",
       "      <td>6c304d5c2815ccd2ba5046c101294c24</td>\n",
       "    </tr>\n",
       "    <tr>\n",
       "      <th>1</th>\n",
       "      <td>0</td>\n",
       "      <td>d48f3211c1ffccdc374f23139a9ab668</td>\n",
       "      <td>NONPACK</td>\n",
       "      <td>1</td>\n",
       "      <td>YML</td>\n",
       "      <td>NONPACK</td>\n",
       "      <td>0</td>\n",
       "      <td>YML</td>\n",
       "      <td>2046</td>\n",
       "      <td>108000</td>\n",
       "      <td>0.1</td>\n",
       "      <td>af49bf330e2cf16e44f0be1bdfe337bd</td>\n",
       "      <td>b7325da1af89a46059164618eb03ae38</td>\n",
       "      <td>6c304d5c2815ccd2ba5046c101294c24</td>\n",
       "    </tr>\n",
       "    <tr>\n",
       "      <th>2</th>\n",
       "      <td>0</td>\n",
       "      <td>d48f3211c1ffccdc374f23139a9ab668</td>\n",
       "      <td>NONPACK</td>\n",
       "      <td>1</td>\n",
       "      <td>YML</td>\n",
       "      <td>NONPACK</td>\n",
       "      <td>0</td>\n",
       "      <td>YML</td>\n",
       "      <td>2046</td>\n",
       "      <td>108000</td>\n",
       "      <td>0.1</td>\n",
       "      <td>af49bf330e2cf16e44f0be1bdfe337bd</td>\n",
       "      <td>b7325da1af89a46059164618eb03ae38</td>\n",
       "      <td>6c304d5c2815ccd2ba5046c101294c24</td>\n",
       "    </tr>\n",
       "    <tr>\n",
       "      <th>3</th>\n",
       "      <td>0</td>\n",
       "      <td>d48f3211c1ffccdc374f23139a9ab668</td>\n",
       "      <td>NONPACK</td>\n",
       "      <td>1</td>\n",
       "      <td>YML</td>\n",
       "      <td>NONPACK</td>\n",
       "      <td>0</td>\n",
       "      <td>YML</td>\n",
       "      <td>2046</td>\n",
       "      <td>108000</td>\n",
       "      <td>0.1</td>\n",
       "      <td>af49bf330e2cf16e44f0be1bdfe337bd</td>\n",
       "      <td>b7325da1af89a46059164618eb03ae38</td>\n",
       "      <td>6c304d5c2815ccd2ba5046c101294c24</td>\n",
       "    </tr>\n",
       "    <tr>\n",
       "      <th>4</th>\n",
       "      <td>0</td>\n",
       "      <td>d48f3211c1ffccdc374f23139a9ab668</td>\n",
       "      <td>NONPACK</td>\n",
       "      <td>1</td>\n",
       "      <td>YML</td>\n",
       "      <td>NONPACK</td>\n",
       "      <td>0</td>\n",
       "      <td>YML</td>\n",
       "      <td>2046</td>\n",
       "      <td>108000</td>\n",
       "      <td>0.1</td>\n",
       "      <td>af49bf330e2cf16e44f0be1bdfe337bd</td>\n",
       "      <td>b7325da1af89a46059164618eb03ae38</td>\n",
       "      <td>6c304d5c2815ccd2ba5046c101294c24</td>\n",
       "    </tr>\n",
       "  </tbody>\n",
       "</table>\n",
       "</div>"
      ],
      "text/plain": [
       "   whs                          orderkey selected_cartontype  box_num  \\\n",
       "0    0  d48f3211c1ffccdc374f23139a9ab668             NONPACK        1   \n",
       "1    0  d48f3211c1ffccdc374f23139a9ab668             NONPACK        1   \n",
       "2    0  d48f3211c1ffccdc374f23139a9ab668             NONPACK        1   \n",
       "3    0  d48f3211c1ffccdc374f23139a9ab668             NONPACK        1   \n",
       "4    0  d48f3211c1ffccdc374f23139a9ab668             NONPACK        1   \n",
       "\n",
       "  recommended_cartontype selected_carton  sel_calc_cube recommended_carton  \\\n",
       "0                    YML         NONPACK              0                YML   \n",
       "1                    YML         NONPACK              0                YML   \n",
       "2                    YML         NONPACK              0                YML   \n",
       "3                    YML         NONPACK              0                YML   \n",
       "4                    YML         NONPACK              0                YML   \n",
       "\n",
       "   pack_volume  rec_calc_cube  goods_wght                               sku  \\\n",
       "0         2046         108000         0.1  af49bf330e2cf16e44f0be1bdfe337bd   \n",
       "1         2046         108000         0.1  af49bf330e2cf16e44f0be1bdfe337bd   \n",
       "2         2046         108000         0.1  af49bf330e2cf16e44f0be1bdfe337bd   \n",
       "3         2046         108000         0.1  af49bf330e2cf16e44f0be1bdfe337bd   \n",
       "4         2046         108000         0.1  af49bf330e2cf16e44f0be1bdfe337bd   \n",
       "\n",
       "                                who                        trackingid  \n",
       "0  b7325da1af89a46059164618eb03ae38  6c304d5c2815ccd2ba5046c101294c24  \n",
       "1  b7325da1af89a46059164618eb03ae38  6c304d5c2815ccd2ba5046c101294c24  \n",
       "2  b7325da1af89a46059164618eb03ae38  6c304d5c2815ccd2ba5046c101294c24  \n",
       "3  b7325da1af89a46059164618eb03ae38  6c304d5c2815ccd2ba5046c101294c24  \n",
       "4  b7325da1af89a46059164618eb03ae38  6c304d5c2815ccd2ba5046c101294c24  "
      ]
     },
     "execution_count": 7,
     "metadata": {},
     "output_type": "execute_result"
    }
   ],
   "source": [
    "data.head()"
   ]
  },
  {
   "cell_type": "code",
   "execution_count": 8,
   "metadata": {
    "colab": {
     "base_uri": "https://localhost:8080/"
    },
    "id": "3r0A6DDYtwao",
    "outputId": "9757f90f-4355-45f0-a672-5a0cbad24bc5"
   },
   "outputs": [
    {
     "name": "stdout",
     "output_type": "stream",
     "text": [
      "<class 'pandas.core.frame.DataFrame'>\n",
      "RangeIndex: 325623 entries, 0 to 325622\n",
      "Data columns (total 14 columns):\n",
      " #   Column                  Non-Null Count   Dtype  \n",
      "---  ------                  --------------   -----  \n",
      " 0   whs                     325623 non-null  int64  \n",
      " 1   orderkey                325623 non-null  object \n",
      " 2   selected_cartontype     325623 non-null  object \n",
      " 3   box_num                 325623 non-null  int64  \n",
      " 4   recommended_cartontype  325623 non-null  object \n",
      " 5   selected_carton         325623 non-null  object \n",
      " 6   sel_calc_cube           325623 non-null  int64  \n",
      " 7   recommended_carton      325623 non-null  object \n",
      " 8   pack_volume             325623 non-null  int64  \n",
      " 9   rec_calc_cube           325623 non-null  int64  \n",
      " 10  goods_wght              325623 non-null  float64\n",
      " 11  sku                     325623 non-null  object \n",
      " 12  who                     325623 non-null  object \n",
      " 13  trackingid              325623 non-null  object \n",
      "dtypes: float64(1), int64(5), object(8)\n",
      "memory usage: 34.8+ MB\n"
     ]
    }
   ],
   "source": [
    "data.info()"
   ]
  },
  {
   "cell_type": "code",
   "execution_count": 9,
   "metadata": {
    "colab": {
     "base_uri": "https://localhost:8080/",
     "height": 300
    },
    "id": "zGrVpHnxtwao",
    "outputId": "8f08eda1-76b2-4595-bea4-d2629d70efe6"
   },
   "outputs": [
    {
     "data": {
      "text/html": [
       "<div>\n",
       "<style scoped>\n",
       "    .dataframe tbody tr th:only-of-type {\n",
       "        vertical-align: middle;\n",
       "    }\n",
       "\n",
       "    .dataframe tbody tr th {\n",
       "        vertical-align: top;\n",
       "    }\n",
       "\n",
       "    .dataframe thead th {\n",
       "        text-align: right;\n",
       "    }\n",
       "</style>\n",
       "<table border=\"1\" class=\"dataframe\">\n",
       "  <thead>\n",
       "    <tr style=\"text-align: right;\">\n",
       "      <th></th>\n",
       "      <th>whs</th>\n",
       "      <th>box_num</th>\n",
       "      <th>sel_calc_cube</th>\n",
       "      <th>pack_volume</th>\n",
       "      <th>rec_calc_cube</th>\n",
       "      <th>goods_wght</th>\n",
       "    </tr>\n",
       "  </thead>\n",
       "  <tbody>\n",
       "    <tr>\n",
       "      <th>count</th>\n",
       "      <td>325623.000000</td>\n",
       "      <td>325623.000000</td>\n",
       "      <td>325623.000000</td>\n",
       "      <td>3.256230e+05</td>\n",
       "      <td>325623.000000</td>\n",
       "      <td>325623.000000</td>\n",
       "    </tr>\n",
       "    <tr>\n",
       "      <th>mean</th>\n",
       "      <td>1.366166</td>\n",
       "      <td>2.787773</td>\n",
       "      <td>11188.402656</td>\n",
       "      <td>5.440790e+03</td>\n",
       "      <td>18253.646168</td>\n",
       "      <td>1.134705</td>\n",
       "    </tr>\n",
       "    <tr>\n",
       "      <th>std</th>\n",
       "      <td>2.098641</td>\n",
       "      <td>15.774209</td>\n",
       "      <td>13958.516542</td>\n",
       "      <td>2.858190e+04</td>\n",
       "      <td>26745.365119</td>\n",
       "      <td>4.090043</td>\n",
       "    </tr>\n",
       "    <tr>\n",
       "      <th>min</th>\n",
       "      <td>0.000000</td>\n",
       "      <td>1.000000</td>\n",
       "      <td>0.000000</td>\n",
       "      <td>0.000000e+00</td>\n",
       "      <td>0.000000</td>\n",
       "      <td>0.000000</td>\n",
       "    </tr>\n",
       "    <tr>\n",
       "      <th>25%</th>\n",
       "      <td>0.000000</td>\n",
       "      <td>1.000000</td>\n",
       "      <td>3449.000000</td>\n",
       "      <td>5.000000e+02</td>\n",
       "      <td>3449.000000</td>\n",
       "      <td>0.110000</td>\n",
       "    </tr>\n",
       "    <tr>\n",
       "      <th>50%</th>\n",
       "      <td>0.000000</td>\n",
       "      <td>1.000000</td>\n",
       "      <td>8436.000000</td>\n",
       "      <td>1.192000e+03</td>\n",
       "      <td>8525.000000</td>\n",
       "      <td>0.300000</td>\n",
       "    </tr>\n",
       "    <tr>\n",
       "      <th>75%</th>\n",
       "      <td>3.000000</td>\n",
       "      <td>1.000000</td>\n",
       "      <td>15579.000000</td>\n",
       "      <td>3.154000e+03</td>\n",
       "      <td>18270.000000</td>\n",
       "      <td>0.799000</td>\n",
       "    </tr>\n",
       "    <tr>\n",
       "      <th>max</th>\n",
       "      <td>7.000000</td>\n",
       "      <td>235.000000</td>\n",
       "      <td>108000.000000</td>\n",
       "      <td>1.815450e+06</td>\n",
       "      <td>108000.000000</td>\n",
       "      <td>153.700000</td>\n",
       "    </tr>\n",
       "  </tbody>\n",
       "</table>\n",
       "</div>"
      ],
      "text/plain": [
       "                 whs        box_num  sel_calc_cube   pack_volume  \\\n",
       "count  325623.000000  325623.000000  325623.000000  3.256230e+05   \n",
       "mean        1.366166       2.787773   11188.402656  5.440790e+03   \n",
       "std         2.098641      15.774209   13958.516542  2.858190e+04   \n",
       "min         0.000000       1.000000       0.000000  0.000000e+00   \n",
       "25%         0.000000       1.000000    3449.000000  5.000000e+02   \n",
       "50%         0.000000       1.000000    8436.000000  1.192000e+03   \n",
       "75%         3.000000       1.000000   15579.000000  3.154000e+03   \n",
       "max         7.000000     235.000000  108000.000000  1.815450e+06   \n",
       "\n",
       "       rec_calc_cube     goods_wght  \n",
       "count  325623.000000  325623.000000  \n",
       "mean    18253.646168       1.134705  \n",
       "std     26745.365119       4.090043  \n",
       "min         0.000000       0.000000  \n",
       "25%      3449.000000       0.110000  \n",
       "50%      8525.000000       0.300000  \n",
       "75%     18270.000000       0.799000  \n",
       "max    108000.000000     153.700000  "
      ]
     },
     "execution_count": 9,
     "metadata": {},
     "output_type": "execute_result"
    }
   ],
   "source": [
    "data.describe()"
   ]
  },
  {
   "cell_type": "code",
   "execution_count": 10,
   "metadata": {
    "id": "nRzNWrektwap"
   },
   "outputs": [],
   "source": [
    "# удаляем товары с нулевым весом:\n",
    "data = data[data['goods_wght'] != 0]"
   ]
  },
  {
   "attachments": {},
   "cell_type": "markdown",
   "metadata": {
    "id": "1xJ2JXb1twap"
   },
   "source": [
    "## Датасет Товары"
   ]
  },
  {
   "cell_type": "code",
   "execution_count": 12,
   "metadata": {
    "id": "PZJNbb1ntwaq"
   },
   "outputs": [],
   "source": [
    "sku = pd.read_csv('sku.csv')"
   ]
  },
  {
   "cell_type": "code",
   "execution_count": 13,
   "metadata": {
    "colab": {
     "base_uri": "https://localhost:8080/",
     "height": 206
    },
    "id": "cuN29GCXtwaq",
    "outputId": "2ca758d5-bebe-408d-9b5b-62a1325720cc"
   },
   "outputs": [
    {
     "data": {
      "text/html": [
       "<div>\n",
       "<style scoped>\n",
       "    .dataframe tbody tr th:only-of-type {\n",
       "        vertical-align: middle;\n",
       "    }\n",
       "\n",
       "    .dataframe tbody tr th {\n",
       "        vertical-align: top;\n",
       "    }\n",
       "\n",
       "    .dataframe thead th {\n",
       "        text-align: right;\n",
       "    }\n",
       "</style>\n",
       "<table border=\"1\" class=\"dataframe\">\n",
       "  <thead>\n",
       "    <tr style=\"text-align: right;\">\n",
       "      <th></th>\n",
       "      <th>Unnamed: 0</th>\n",
       "      <th>sku</th>\n",
       "      <th>a</th>\n",
       "      <th>b</th>\n",
       "      <th>c</th>\n",
       "    </tr>\n",
       "  </thead>\n",
       "  <tbody>\n",
       "    <tr>\n",
       "      <th>0</th>\n",
       "      <td>0</td>\n",
       "      <td>8ba57dcdba9a58b0c4edd180bef6afc9</td>\n",
       "      <td>11.0</td>\n",
       "      <td>31.0</td>\n",
       "      <td>28.0</td>\n",
       "    </tr>\n",
       "    <tr>\n",
       "      <th>1</th>\n",
       "      <td>1</td>\n",
       "      <td>d9af6ce6f9e303f4b1a8cb47cde21975</td>\n",
       "      <td>29.0</td>\n",
       "      <td>14.0</td>\n",
       "      <td>40.0</td>\n",
       "    </tr>\n",
       "    <tr>\n",
       "      <th>2</th>\n",
       "      <td>2</td>\n",
       "      <td>8b91fd242bde88f0891380506d9c3caa</td>\n",
       "      <td>12.0</td>\n",
       "      <td>13.0</td>\n",
       "      <td>35.0</td>\n",
       "    </tr>\n",
       "    <tr>\n",
       "      <th>3</th>\n",
       "      <td>3</td>\n",
       "      <td>e8af308a7659e34194770d1e3a48e144</td>\n",
       "      <td>3.0</td>\n",
       "      <td>13.0</td>\n",
       "      <td>8.0</td>\n",
       "    </tr>\n",
       "    <tr>\n",
       "      <th>4</th>\n",
       "      <td>4</td>\n",
       "      <td>dc0e2542e122731217289b8e6d3bd3f8</td>\n",
       "      <td>96.0</td>\n",
       "      <td>18.0</td>\n",
       "      <td>56.0</td>\n",
       "    </tr>\n",
       "  </tbody>\n",
       "</table>\n",
       "</div>"
      ],
      "text/plain": [
       "   Unnamed: 0                               sku     a     b     c\n",
       "0           0  8ba57dcdba9a58b0c4edd180bef6afc9  11.0  31.0  28.0\n",
       "1           1  d9af6ce6f9e303f4b1a8cb47cde21975  29.0  14.0  40.0\n",
       "2           2  8b91fd242bde88f0891380506d9c3caa  12.0  13.0  35.0\n",
       "3           3  e8af308a7659e34194770d1e3a48e144   3.0  13.0   8.0\n",
       "4           4  dc0e2542e122731217289b8e6d3bd3f8  96.0  18.0  56.0"
      ]
     },
     "execution_count": 13,
     "metadata": {},
     "output_type": "execute_result"
    }
   ],
   "source": [
    "sku.head()"
   ]
  },
  {
   "attachments": {},
   "cell_type": "markdown",
   "metadata": {
    "id": "EMtO579Ytwar"
   },
   "source": [
    "## Датасет Категории товаров"
   ]
  },
  {
   "cell_type": "code",
   "execution_count": 14,
   "metadata": {
    "id": "beytODdVtwar"
   },
   "outputs": [],
   "source": [
    "sku_cargotypes = pd.read_csv('sku_cargotypes.csv')"
   ]
  },
  {
   "cell_type": "code",
   "execution_count": 15,
   "metadata": {
    "colab": {
     "base_uri": "https://localhost:8080/",
     "height": 206
    },
    "id": "ie6Mc3n9twas",
    "outputId": "f9a22f19-9be0-4581-a536-b8f6248df44d"
   },
   "outputs": [
    {
     "data": {
      "text/html": [
       "<div>\n",
       "<style scoped>\n",
       "    .dataframe tbody tr th:only-of-type {\n",
       "        vertical-align: middle;\n",
       "    }\n",
       "\n",
       "    .dataframe tbody tr th {\n",
       "        vertical-align: top;\n",
       "    }\n",
       "\n",
       "    .dataframe thead th {\n",
       "        text-align: right;\n",
       "    }\n",
       "</style>\n",
       "<table border=\"1\" class=\"dataframe\">\n",
       "  <thead>\n",
       "    <tr style=\"text-align: right;\">\n",
       "      <th></th>\n",
       "      <th>Unnamed: 0</th>\n",
       "      <th>sku</th>\n",
       "      <th>cargotype</th>\n",
       "    </tr>\n",
       "  </thead>\n",
       "  <tbody>\n",
       "    <tr>\n",
       "      <th>0</th>\n",
       "      <td>0</td>\n",
       "      <td>4862bf0e760a593b13f3f2fcf822e533</td>\n",
       "      <td>290</td>\n",
       "    </tr>\n",
       "    <tr>\n",
       "      <th>1</th>\n",
       "      <td>1</td>\n",
       "      <td>4862bf0e760a593b13f3f2fcf822e533</td>\n",
       "      <td>901</td>\n",
       "    </tr>\n",
       "    <tr>\n",
       "      <th>2</th>\n",
       "      <td>2</td>\n",
       "      <td>50d3c4fc66ad423b7feaadff2d682ee0</td>\n",
       "      <td>290</td>\n",
       "    </tr>\n",
       "    <tr>\n",
       "      <th>3</th>\n",
       "      <td>3</td>\n",
       "      <td>50d3c4fc66ad423b7feaadff2d682ee0</td>\n",
       "      <td>901</td>\n",
       "    </tr>\n",
       "    <tr>\n",
       "      <th>4</th>\n",
       "      <td>4</td>\n",
       "      <td>24ce9dba9f301ada55f60e25ee1498d2</td>\n",
       "      <td>290</td>\n",
       "    </tr>\n",
       "  </tbody>\n",
       "</table>\n",
       "</div>"
      ],
      "text/plain": [
       "   Unnamed: 0                               sku  cargotype\n",
       "0           0  4862bf0e760a593b13f3f2fcf822e533        290\n",
       "1           1  4862bf0e760a593b13f3f2fcf822e533        901\n",
       "2           2  50d3c4fc66ad423b7feaadff2d682ee0        290\n",
       "3           3  50d3c4fc66ad423b7feaadff2d682ee0        901\n",
       "4           4  24ce9dba9f301ada55f60e25ee1498d2        290"
      ]
     },
     "execution_count": 15,
     "metadata": {},
     "output_type": "execute_result"
    }
   ],
   "source": [
    "sku_cargotypes.head()"
   ]
  },
  {
   "attachments": {},
   "cell_type": "markdown",
   "metadata": {
    "id": "rTRfveEWtwat"
   },
   "source": [
    "## Датасет Категории"
   ]
  },
  {
   "cell_type": "code",
   "execution_count": 16,
   "metadata": {
    "id": "ugssaeU_twau"
   },
   "outputs": [],
   "source": [
    "cargotype_info = pd.read_csv('cargotype_info.csv')"
   ]
  },
  {
   "cell_type": "code",
   "execution_count": 17,
   "metadata": {
    "id": "LmHV7uPZtwau"
   },
   "outputs": [],
   "source": [
    "cargotype_info = cargotype_info.drop(cargotype_info.columns[0], axis=1)"
   ]
  },
  {
   "cell_type": "code",
   "execution_count": 18,
   "metadata": {
    "colab": {
     "base_uri": "https://localhost:8080/",
     "height": 206
    },
    "id": "h46tpMcRtwau",
    "outputId": "88ac825c-a377-48a4-b9fd-c693043a9f95"
   },
   "outputs": [
    {
     "data": {
      "text/html": [
       "<div>\n",
       "<style scoped>\n",
       "    .dataframe tbody tr th:only-of-type {\n",
       "        vertical-align: middle;\n",
       "    }\n",
       "\n",
       "    .dataframe tbody tr th {\n",
       "        vertical-align: top;\n",
       "    }\n",
       "\n",
       "    .dataframe thead th {\n",
       "        text-align: right;\n",
       "    }\n",
       "</style>\n",
       "<table border=\"1\" class=\"dataframe\">\n",
       "  <thead>\n",
       "    <tr style=\"text-align: right;\">\n",
       "      <th></th>\n",
       "      <th>cargotype</th>\n",
       "      <th>description</th>\n",
       "    </tr>\n",
       "  </thead>\n",
       "  <tbody>\n",
       "    <tr>\n",
       "      <th>0</th>\n",
       "      <td>770.0</td>\n",
       "      <td>консервы</td>\n",
       "    </tr>\n",
       "    <tr>\n",
       "      <th>1</th>\n",
       "      <td>301.0</td>\n",
       "      <td>тяжеловесный и крупногабаритный 20кг</td>\n",
       "    </tr>\n",
       "    <tr>\n",
       "      <th>2</th>\n",
       "      <td>980.0</td>\n",
       "      <td>Требует обязательной маркировки</td>\n",
       "    </tr>\n",
       "    <tr>\n",
       "      <th>3</th>\n",
       "      <td>985.0</td>\n",
       "      <td>Не требует наличия маркировки, но требует выво...</td>\n",
       "    </tr>\n",
       "    <tr>\n",
       "      <th>4</th>\n",
       "      <td>990.0</td>\n",
       "      <td>Потребует обязательной маркировки в ближайшем ...</td>\n",
       "    </tr>\n",
       "  </tbody>\n",
       "</table>\n",
       "</div>"
      ],
      "text/plain": [
       "   cargotype                                        description\n",
       "0      770.0                                           консервы\n",
       "1      301.0               тяжеловесный и крупногабаритный 20кг\n",
       "2      980.0                    Требует обязательной маркировки\n",
       "3      985.0  Не требует наличия маркировки, но требует выво...\n",
       "4      990.0  Потребует обязательной маркировки в ближайшем ..."
      ]
     },
     "execution_count": 18,
     "metadata": {},
     "output_type": "execute_result"
    }
   ],
   "source": [
    "cargotype_info.head()"
   ]
  },
  {
   "cell_type": "code",
   "execution_count": 19,
   "metadata": {
    "id": "L7kNadv0twau"
   },
   "outputs": [],
   "source": [
    "# удалим часть информации о карготипах:\n",
    "values_to_remove = ['цена высокая', 'цена низкая', 'цена средняя', 'возможно вскрытие заводской упаковки покупателем', \n",
    "                    'Склад КГТ (крупногабаритный товар)', '2023-04-11', 'Склад СГТ (среднегабаритный товар)', \n",
    "                    'Склад МГТ (малогабаритный товар)', 'нельзя примерить', 'большой аксессуар', 'малый аксессуар', \n",
    "                    'одежда с плечиками', 'в ассортименте', 'не определен', 'пачкается', 'готовое блюда', 'сыпучее', 'товары народного потребления',\n",
    "                    'влажный (мокрый)', 'пахучий', 'пачкает', 'сыпучее', 'в ассортименте', 'нельзя примерить', 'упаковка в пленку', \n",
    "                    'Требует обязательной маркировки']\n",
    "\n",
    "cargotype_info = cargotype_info[~cargotype_info['description'].isin(values_to_remove)]"
   ]
  },
  {
   "cell_type": "code",
   "execution_count": 20,
   "metadata": {
    "id": "W1xMmHjftwav"
   },
   "outputs": [],
   "source": [
    "# Создаем словарь с соответствиями старых категорий и новых категорий\n",
    "category_mapping_1 = {\n",
    "    'продукты питания': ['консервы', 'продукты питания'],\n",
    "    'требующие терморижима': ['скоропортящийся', 'полуфабрикат', 'охлажденные',  'замороженный', 'готовое блюда',\n",
    "                              'ультра-фреш', 'фреш', 'требует доставки с термо режимом 0+', 'Терморежим 13-22', \n",
    "                              'средства личной гигиены', 'семена'],\n",
    "    'медикаменты':['медикаменты', 'БАДы', 'рецептурное лекарство', 'аптека'],\n",
    "    'крупногабаритные товары': ['тяжеловесный и крупногабаритный 20кг', 'тяжеловесный и крупногабаритный', \n",
    "                                'тяжеловесный и крупногабаритный больше паллеты', 'мебель'],\n",
    "    'товар +18': ['интим товар', 'возрастное ограничение на получение товара', ],\n",
    "    'ценности': ['документы и ценные бумаги', 'предметы искусства', 'ценное', 'драгоценности'],\n",
    "    'электроника':['техника и электроника', 'техника и электроника с литий-ионными батареями', 'цифровой товар', 'бытовая техника', \n",
    "                   'электроника'], \n",
    "    'продукты химической промышленности':['химикаты', 'опасный', 'пестициды', 'агрохимикаты', 'опасный Авиа', 'аэрозоли и газы',],\n",
    "    'животные': ['животные', 'меркурий'],\n",
    "    'товары, требующие особой упаковки': ['мнется', 'хрупкое', 'жидкость', 'керамика/стекло/камень/фарфор'],\n",
    "    'бытовая химия и косметика': ['косметика и парфюмерия', 'бытовая химия', 'порошки (в том числе мелкодисперсные)', 'товары для красоты'],\n",
    "    'оружие и взрывчатые вещества': ['оружие и взрывчатые вещества'], \n",
    "    'одежда, обувь, аксессуары': ['впитывает запах', 'одежда, обувь, аксессуары', 'обувь взрослая', 'аксессуары, часы и украшения', 'обувь детская',\n",
    "                                  'одежда верхняя', 'одежда детская', 'одежда прочая'],\n",
    "    'сырье':['сырье'], \n",
    "    'строительные материалы': ['строительные материалы'],\n",
    "    'товары для животных':['корма для животных', 'товары для животных', 'ветеринарная аптека'],\n",
    "    'автотовары': ['товары для авто и мототехники']\n",
    "    }"
   ]
  },
  {
   "cell_type": "code",
   "execution_count": 21,
   "metadata": {
    "id": "xCAGYW_atwaw"
   },
   "outputs": [],
   "source": [
    "# Функция для объединения категорий\n",
    "def combine_categories(category):\n",
    "    for new_category, old_categories in category_mapping_1.items():\n",
    "        if category in old_categories:\n",
    "            return new_category\n",
    "    return 'прочее'  # Если категория не входит в объединенные категории, присваиваем \"Прочее\""
   ]
  },
  {
   "cell_type": "code",
   "execution_count": 22,
   "metadata": {
    "id": "pKOKWT9Stwaw"
   },
   "outputs": [],
   "source": [
    "cargotype_info['total_category'] = cargotype_info['description'].map(combine_categories)"
   ]
  },
  {
   "cell_type": "code",
   "execution_count": 23,
   "metadata": {
    "id": "_rjkyJoOtwaw"
   },
   "outputs": [],
   "source": [
    "# Создаем словарь для определения категории перевозки:\n",
    "category_mapping_2 = {\n",
    "    'требует раздельной перевозки': ['консервы', 'продукты питания'],\n",
    "    'экспресс-доставка': ['охлажденные', 'готовое блюда', 'скоропортящийся', 'ультра-фреш', 'фреш'],\n",
    "    'продукты, требующие отрицательных температур при перевозке':['полуфабрикат', 'замороженный'],\n",
    "    'прочие товары, требующие перевозки с терморежимом': ['требует доставки с термо режимом 0+', 'Терморежим 13-22', 'медикаменты', 'средства личной гигиены',\n",
    "                                                          'БАДы', 'рецептурное лекарство', 'семена', 'аптека', 'ветеринарная аптека'],\n",
    "    'крупногабаритный груз': ['тяжеловесный и крупногабаритный 20кг', 'тяжеловесный и крупногабаритный', 'тяжеловесный и крупногабаритный больше паллеты'\n",
    "                              'мебель', 'строительные материалы'],\n",
    "    'перевозка через ФГУП \"спецсвязь\"': ['документы и ценные бумаги', 'предметы искусства', 'ценное', 'драгоценности', 'оружие и взрывчатые вещества',\n",
    "                                         ],\n",
    "    'авиаперевозка': ['техника и электроника с литий-ионными батареями', 'опасный Авиа', 'аэрозоли и газы',],\n",
    "    'перевозка через систему меркурий': ['животные', 'меркурий'],\n",
    "    'отдельная перевозка первичного сырья':['сырье'],\n",
    "    'перевозка автотоваров': ['товары для авто и мототехники']}"
   ]
  },
  {
   "cell_type": "code",
   "execution_count": 24,
   "metadata": {
    "id": "5eSJGieJtwax"
   },
   "outputs": [],
   "source": [
    "# Функция для объединения категорий\n",
    "def combine_categories_1(category):\n",
    "    for new_category, old_categories in category_mapping_2.items():\n",
    "        if category in old_categories:\n",
    "            return new_category\n",
    "    return 'не требует особых правил перевозки'  "
   ]
  },
  {
   "cell_type": "code",
   "execution_count": 25,
   "metadata": {
    "id": "vcwnZFUdtway"
   },
   "outputs": [],
   "source": [
    "cargotype_info['transportation rules'] = cargotype_info['description'].map(combine_categories_1)"
   ]
  },
  {
   "cell_type": "code",
   "execution_count": 26,
   "metadata": {
    "colab": {
     "base_uri": "https://localhost:8080/",
     "height": 424
    },
    "id": "7sM8slb6tway",
    "outputId": "97565497-8262-44d2-e2e6-8f239bbb7e15"
   },
   "outputs": [
    {
     "data": {
      "text/html": [
       "<div>\n",
       "<style scoped>\n",
       "    .dataframe tbody tr th:only-of-type {\n",
       "        vertical-align: middle;\n",
       "    }\n",
       "\n",
       "    .dataframe tbody tr th {\n",
       "        vertical-align: top;\n",
       "    }\n",
       "\n",
       "    .dataframe thead th {\n",
       "        text-align: right;\n",
       "    }\n",
       "</style>\n",
       "<table border=\"1\" class=\"dataframe\">\n",
       "  <thead>\n",
       "    <tr style=\"text-align: right;\">\n",
       "      <th></th>\n",
       "      <th>cargotype</th>\n",
       "      <th>description</th>\n",
       "      <th>total_category</th>\n",
       "      <th>transportation rules</th>\n",
       "    </tr>\n",
       "  </thead>\n",
       "  <tbody>\n",
       "    <tr>\n",
       "      <th>0</th>\n",
       "      <td>770.0</td>\n",
       "      <td>консервы</td>\n",
       "      <td>продукты питания</td>\n",
       "      <td>требует раздельной перевозки</td>\n",
       "    </tr>\n",
       "    <tr>\n",
       "      <th>1</th>\n",
       "      <td>301.0</td>\n",
       "      <td>тяжеловесный и крупногабаритный 20кг</td>\n",
       "      <td>крупногабаритные товары</td>\n",
       "      <td>крупногабаритный груз</td>\n",
       "    </tr>\n",
       "    <tr>\n",
       "      <th>3</th>\n",
       "      <td>985.0</td>\n",
       "      <td>Не требует наличия маркировки, но требует выво...</td>\n",
       "      <td>прочее</td>\n",
       "      <td>не требует особых правил перевозки</td>\n",
       "    </tr>\n",
       "    <tr>\n",
       "      <th>4</th>\n",
       "      <td>990.0</td>\n",
       "      <td>Потребует обязательной маркировки в ближайшем ...</td>\n",
       "      <td>прочее</td>\n",
       "      <td>не требует особых правил перевозки</td>\n",
       "    </tr>\n",
       "    <tr>\n",
       "      <th>5</th>\n",
       "      <td>910.0</td>\n",
       "      <td>интим товар</td>\n",
       "      <td>товар +18</td>\n",
       "      <td>не требует особых правил перевозки</td>\n",
       "    </tr>\n",
       "    <tr>\n",
       "      <th>...</th>\n",
       "      <td>...</td>\n",
       "      <td>...</td>\n",
       "      <td>...</td>\n",
       "      <td>...</td>\n",
       "    </tr>\n",
       "    <tr>\n",
       "      <th>88</th>\n",
       "      <td>801.0</td>\n",
       "      <td>товары для животных</td>\n",
       "      <td>товары для животных</td>\n",
       "      <td>не требует особых правил перевозки</td>\n",
       "    </tr>\n",
       "    <tr>\n",
       "      <th>90</th>\n",
       "      <td>670.0</td>\n",
       "      <td>товары для авто и мототехники</td>\n",
       "      <td>автотовары</td>\n",
       "      <td>перевозка автотоваров</td>\n",
       "    </tr>\n",
       "    <tr>\n",
       "      <th>91</th>\n",
       "      <td>901.0</td>\n",
       "      <td>аптека</td>\n",
       "      <td>медикаменты</td>\n",
       "      <td>прочие товары, требующие перевозки с терморежимом</td>\n",
       "    </tr>\n",
       "    <tr>\n",
       "      <th>93</th>\n",
       "      <td>640.0</td>\n",
       "      <td>электроника</td>\n",
       "      <td>электроника</td>\n",
       "      <td>не требует особых правил перевозки</td>\n",
       "    </tr>\n",
       "    <tr>\n",
       "      <th>94</th>\n",
       "      <td>908.0</td>\n",
       "      <td>ветеринарная аптека</td>\n",
       "      <td>товары для животных</td>\n",
       "      <td>прочие товары, требующие перевозки с терморежимом</td>\n",
       "    </tr>\n",
       "  </tbody>\n",
       "</table>\n",
       "<p>74 rows × 4 columns</p>\n",
       "</div>"
      ],
      "text/plain": [
       "    cargotype                                        description  \\\n",
       "0       770.0                                           консервы   \n",
       "1       301.0               тяжеловесный и крупногабаритный 20кг   \n",
       "3       985.0  Не требует наличия маркировки, но требует выво...   \n",
       "4       990.0  Потребует обязательной маркировки в ближайшем ...   \n",
       "5       910.0                                        интим товар   \n",
       "..        ...                                                ...   \n",
       "88      801.0                                товары для животных   \n",
       "90      670.0                      товары для авто и мототехники   \n",
       "91      901.0                                             аптека   \n",
       "93      640.0                                        электроника   \n",
       "94      908.0                                ветеринарная аптека   \n",
       "\n",
       "             total_category                               transportation rules  \n",
       "0          продукты питания                       требует раздельной перевозки  \n",
       "1   крупногабаритные товары                              крупногабаритный груз  \n",
       "3                    прочее                 не требует особых правил перевозки  \n",
       "4                    прочее                 не требует особых правил перевозки  \n",
       "5                 товар +18                 не требует особых правил перевозки  \n",
       "..                      ...                                                ...  \n",
       "88      товары для животных                 не требует особых правил перевозки  \n",
       "90               автотовары                              перевозка автотоваров  \n",
       "91              медикаменты  прочие товары, требующие перевозки с терморежимом  \n",
       "93              электроника                 не требует особых правил перевозки  \n",
       "94      товары для животных  прочие товары, требующие перевозки с терморежимом  \n",
       "\n",
       "[74 rows x 4 columns]"
      ]
     },
     "execution_count": 26,
     "metadata": {},
     "output_type": "execute_result"
    }
   ],
   "source": [
    "cargotype_info"
   ]
  },
  {
   "attachments": {},
   "cell_type": "markdown",
   "metadata": {
    "id": "vnWVNeNstway"
   },
   "source": [
    "## Датасет Характеристика упаковки"
   ]
  },
  {
   "cell_type": "code",
   "execution_count": 27,
   "metadata": {
    "id": "GNTxRyTltway"
   },
   "outputs": [],
   "source": [
    "carton = pd.read_csv('C:/Users/user/Desktop/ТЕТРАДКИ/datasets/archive (1)/carton.csv')"
   ]
  },
  {
   "cell_type": "code",
   "execution_count": 28,
   "metadata": {
    "id": "itVi8-6gtwaz"
   },
   "outputs": [],
   "source": [
    "carton.drop(['DISPLAYRFPACK'], axis = 1, inplace=True)"
   ]
  },
  {
   "cell_type": "code",
   "execution_count": 29,
   "metadata": {
    "colab": {
     "base_uri": "https://localhost:8080/",
     "height": 959
    },
    "id": "P4l7bcdQtwaz",
    "outputId": "7b720b68-a467-426e-d9f9-d6189b211660"
   },
   "outputs": [
    {
     "data": {
      "text/html": [
       "<div>\n",
       "<style scoped>\n",
       "    .dataframe tbody tr th:only-of-type {\n",
       "        vertical-align: middle;\n",
       "    }\n",
       "\n",
       "    .dataframe tbody tr th {\n",
       "        vertical-align: top;\n",
       "    }\n",
       "\n",
       "    .dataframe thead th {\n",
       "        text-align: right;\n",
       "    }\n",
       "</style>\n",
       "<table border=\"1\" class=\"dataframe\">\n",
       "  <thead>\n",
       "    <tr style=\"text-align: right;\">\n",
       "      <th></th>\n",
       "      <th>CARTONTYPE</th>\n",
       "      <th>LENGTH</th>\n",
       "      <th>WIDTH</th>\n",
       "      <th>HEIGHT</th>\n",
       "    </tr>\n",
       "  </thead>\n",
       "  <tbody>\n",
       "    <tr>\n",
       "      <th>0</th>\n",
       "      <td>YMA</td>\n",
       "      <td>24.7</td>\n",
       "      <td>15.0</td>\n",
       "      <td>10.00</td>\n",
       "    </tr>\n",
       "    <tr>\n",
       "      <th>1</th>\n",
       "      <td>YMC</td>\n",
       "      <td>30.0</td>\n",
       "      <td>20.0</td>\n",
       "      <td>15.00</td>\n",
       "    </tr>\n",
       "    <tr>\n",
       "      <th>2</th>\n",
       "      <td>YME</td>\n",
       "      <td>30.0</td>\n",
       "      <td>30.0</td>\n",
       "      <td>44.50</td>\n",
       "    </tr>\n",
       "    <tr>\n",
       "      <th>3</th>\n",
       "      <td>YMF</td>\n",
       "      <td>35.0</td>\n",
       "      <td>25.0</td>\n",
       "      <td>15.00</td>\n",
       "    </tr>\n",
       "    <tr>\n",
       "      <th>4</th>\n",
       "      <td>YMG</td>\n",
       "      <td>44.7</td>\n",
       "      <td>30.0</td>\n",
       "      <td>20.00</td>\n",
       "    </tr>\n",
       "    <tr>\n",
       "      <th>5</th>\n",
       "      <td>YMH</td>\n",
       "      <td>42.0</td>\n",
       "      <td>20.0</td>\n",
       "      <td>86.00</td>\n",
       "    </tr>\n",
       "    <tr>\n",
       "      <th>6</th>\n",
       "      <td>YMJ</td>\n",
       "      <td>50.0</td>\n",
       "      <td>29.0</td>\n",
       "      <td>48.00</td>\n",
       "    </tr>\n",
       "    <tr>\n",
       "      <th>7</th>\n",
       "      <td>KSD</td>\n",
       "      <td>0.0</td>\n",
       "      <td>0.0</td>\n",
       "      <td>0.00</td>\n",
       "    </tr>\n",
       "    <tr>\n",
       "      <th>8</th>\n",
       "      <td>YML</td>\n",
       "      <td>60.0</td>\n",
       "      <td>40.0</td>\n",
       "      <td>45.00</td>\n",
       "    </tr>\n",
       "    <tr>\n",
       "      <th>9</th>\n",
       "      <td>YMN</td>\n",
       "      <td>60.0</td>\n",
       "      <td>60.0</td>\n",
       "      <td>40.00</td>\n",
       "    </tr>\n",
       "    <tr>\n",
       "      <th>10</th>\n",
       "      <td>YMO</td>\n",
       "      <td>65.0</td>\n",
       "      <td>45.0</td>\n",
       "      <td>20.00</td>\n",
       "    </tr>\n",
       "    <tr>\n",
       "      <th>11</th>\n",
       "      <td>YMP</td>\n",
       "      <td>70.0</td>\n",
       "      <td>30.0</td>\n",
       "      <td>22.00</td>\n",
       "    </tr>\n",
       "    <tr>\n",
       "      <th>12</th>\n",
       "      <td>YMQ</td>\n",
       "      <td>70.0</td>\n",
       "      <td>60.0</td>\n",
       "      <td>40.00</td>\n",
       "    </tr>\n",
       "    <tr>\n",
       "      <th>13</th>\n",
       "      <td>YMR</td>\n",
       "      <td>80.0</td>\n",
       "      <td>60.0</td>\n",
       "      <td>80.00</td>\n",
       "    </tr>\n",
       "    <tr>\n",
       "      <th>14</th>\n",
       "      <td>YMS</td>\n",
       "      <td>89.5</td>\n",
       "      <td>59.5</td>\n",
       "      <td>49.50</td>\n",
       "    </tr>\n",
       "    <tr>\n",
       "      <th>15</th>\n",
       "      <td>NONPACK</td>\n",
       "      <td>0.0</td>\n",
       "      <td>0.0</td>\n",
       "      <td>0.00</td>\n",
       "    </tr>\n",
       "    <tr>\n",
       "      <th>16</th>\n",
       "      <td>STRETCH</td>\n",
       "      <td>0.0</td>\n",
       "      <td>0.0</td>\n",
       "      <td>0.00</td>\n",
       "    </tr>\n",
       "    <tr>\n",
       "      <th>17</th>\n",
       "      <td>YMU</td>\n",
       "      <td>27.0</td>\n",
       "      <td>24.0</td>\n",
       "      <td>4.00</td>\n",
       "    </tr>\n",
       "    <tr>\n",
       "      <th>18</th>\n",
       "      <td>YMV</td>\n",
       "      <td>37.0</td>\n",
       "      <td>29.0</td>\n",
       "      <td>4.00</td>\n",
       "    </tr>\n",
       "    <tr>\n",
       "      <th>19</th>\n",
       "      <td>YMW</td>\n",
       "      <td>40.0</td>\n",
       "      <td>30.0</td>\n",
       "      <td>15.00</td>\n",
       "    </tr>\n",
       "    <tr>\n",
       "      <th>20</th>\n",
       "      <td>YMХ</td>\n",
       "      <td>40.0</td>\n",
       "      <td>18.0</td>\n",
       "      <td>65.00</td>\n",
       "    </tr>\n",
       "    <tr>\n",
       "      <th>21</th>\n",
       "      <td>MYF</td>\n",
       "      <td>20.0</td>\n",
       "      <td>15.0</td>\n",
       "      <td>5.00</td>\n",
       "    </tr>\n",
       "    <tr>\n",
       "      <th>22</th>\n",
       "      <td>YMX</td>\n",
       "      <td>40.0</td>\n",
       "      <td>18.0</td>\n",
       "      <td>65.00</td>\n",
       "    </tr>\n",
       "    <tr>\n",
       "      <th>23</th>\n",
       "      <td>YMY</td>\n",
       "      <td>52.0</td>\n",
       "      <td>20.0</td>\n",
       "      <td>70.00</td>\n",
       "    </tr>\n",
       "    <tr>\n",
       "      <th>24</th>\n",
       "      <td>MYA</td>\n",
       "      <td>15.0</td>\n",
       "      <td>20.0</td>\n",
       "      <td>3.33</td>\n",
       "    </tr>\n",
       "    <tr>\n",
       "      <th>25</th>\n",
       "      <td>MYB</td>\n",
       "      <td>22.0</td>\n",
       "      <td>32.0</td>\n",
       "      <td>4.90</td>\n",
       "    </tr>\n",
       "    <tr>\n",
       "      <th>26</th>\n",
       "      <td>MYC</td>\n",
       "      <td>30.0</td>\n",
       "      <td>38.0</td>\n",
       "      <td>7.40</td>\n",
       "    </tr>\n",
       "    <tr>\n",
       "      <th>27</th>\n",
       "      <td>MYD</td>\n",
       "      <td>38.0</td>\n",
       "      <td>50.0</td>\n",
       "      <td>8.20</td>\n",
       "    </tr>\n",
       "    <tr>\n",
       "      <th>28</th>\n",
       "      <td>MYE</td>\n",
       "      <td>43.0</td>\n",
       "      <td>63.0</td>\n",
       "      <td>9.70</td>\n",
       "    </tr>\n",
       "  </tbody>\n",
       "</table>\n",
       "</div>"
      ],
      "text/plain": [
       "   CARTONTYPE  LENGTH  WIDTH  HEIGHT\n",
       "0         YMA    24.7   15.0   10.00\n",
       "1         YMC    30.0   20.0   15.00\n",
       "2         YME    30.0   30.0   44.50\n",
       "3         YMF    35.0   25.0   15.00\n",
       "4         YMG    44.7   30.0   20.00\n",
       "5         YMH    42.0   20.0   86.00\n",
       "6         YMJ    50.0   29.0   48.00\n",
       "7         KSD     0.0    0.0    0.00\n",
       "8         YML    60.0   40.0   45.00\n",
       "9         YMN    60.0   60.0   40.00\n",
       "10        YMO    65.0   45.0   20.00\n",
       "11        YMP    70.0   30.0   22.00\n",
       "12        YMQ    70.0   60.0   40.00\n",
       "13        YMR    80.0   60.0   80.00\n",
       "14        YMS    89.5   59.5   49.50\n",
       "15    NONPACK     0.0    0.0    0.00\n",
       "16    STRETCH     0.0    0.0    0.00\n",
       "17        YMU    27.0   24.0    4.00\n",
       "18        YMV    37.0   29.0    4.00\n",
       "19        YMW    40.0   30.0   15.00\n",
       "20        YMХ    40.0   18.0   65.00\n",
       "21        MYF    20.0   15.0    5.00\n",
       "22        YMX    40.0   18.0   65.00\n",
       "23        YMY    52.0   20.0   70.00\n",
       "24        MYA    15.0   20.0    3.33\n",
       "25        MYB    22.0   32.0    4.90\n",
       "26        MYC    30.0   38.0    7.40\n",
       "27        MYD    38.0   50.0    8.20\n",
       "28        MYE    43.0   63.0    9.70"
      ]
     },
     "execution_count": 29,
     "metadata": {},
     "output_type": "execute_result"
    }
   ],
   "source": [
    "carton"
   ]
  },
  {
   "cell_type": "code",
   "execution_count": 30,
   "metadata": {
    "id": "fl0BjjPqtwaz"
   },
   "outputs": [],
   "source": [
    "carton.rename(columns={'CARTONTYPE': 'selected_carton'}, inplace=True)"
   ]
  },
  {
   "attachments": {},
   "cell_type": "markdown",
   "metadata": {
    "id": "79xc_2A0twaz"
   },
   "source": [
    "## Датасет Цена упаковки"
   ]
  },
  {
   "cell_type": "code",
   "execution_count": 31,
   "metadata": {
    "id": "tHIvulFxtwaz"
   },
   "outputs": [],
   "source": [
    "carton_price = pd.read_excel('carton_price.xlsx')"
   ]
  },
  {
   "cell_type": "code",
   "execution_count": 32,
   "metadata": {
    "colab": {
     "base_uri": "https://localhost:8080/",
     "height": 520
    },
    "id": "pGw_V3AKtwa0",
    "outputId": "005c188d-e027-418f-d10b-c39a01bfb07d"
   },
   "outputs": [
    {
     "data": {
      "text/html": [
       "<div>\n",
       "<style scoped>\n",
       "    .dataframe tbody tr th:only-of-type {\n",
       "        vertical-align: middle;\n",
       "    }\n",
       "\n",
       "    .dataframe tbody tr th {\n",
       "        vertical-align: top;\n",
       "    }\n",
       "\n",
       "    .dataframe thead th {\n",
       "        text-align: right;\n",
       "    }\n",
       "</style>\n",
       "<table border=\"1\" class=\"dataframe\">\n",
       "  <thead>\n",
       "    <tr style=\"text-align: right;\">\n",
       "      <th></th>\n",
       "      <th>Unnamed: 0</th>\n",
       "      <th>01.03.2023</th>\n",
       "    </tr>\n",
       "  </thead>\n",
       "  <tbody>\n",
       "    <tr>\n",
       "      <th>0</th>\n",
       "      <td>MYA</td>\n",
       "      <td>1.109861</td>\n",
       "    </tr>\n",
       "    <tr>\n",
       "      <th>1</th>\n",
       "      <td>MYB</td>\n",
       "      <td>2.297432</td>\n",
       "    </tr>\n",
       "    <tr>\n",
       "      <th>2</th>\n",
       "      <td>MYC</td>\n",
       "      <td>3.616713</td>\n",
       "    </tr>\n",
       "    <tr>\n",
       "      <th>3</th>\n",
       "      <td>MYD</td>\n",
       "      <td>6.918375</td>\n",
       "    </tr>\n",
       "    <tr>\n",
       "      <th>4</th>\n",
       "      <td>MYE</td>\n",
       "      <td>8.062722</td>\n",
       "    </tr>\n",
       "    <tr>\n",
       "      <th>5</th>\n",
       "      <td>MYF</td>\n",
       "      <td>4.083130</td>\n",
       "    </tr>\n",
       "    <tr>\n",
       "      <th>6</th>\n",
       "      <td>YMA</td>\n",
       "      <td>4.392937</td>\n",
       "    </tr>\n",
       "    <tr>\n",
       "      <th>7</th>\n",
       "      <td>YMC</td>\n",
       "      <td>7.777487</td>\n",
       "    </tr>\n",
       "    <tr>\n",
       "      <th>8</th>\n",
       "      <td>YME</td>\n",
       "      <td>23.670260</td>\n",
       "    </tr>\n",
       "    <tr>\n",
       "      <th>9</th>\n",
       "      <td>YMF</td>\n",
       "      <td>10.661487</td>\n",
       "    </tr>\n",
       "    <tr>\n",
       "      <th>10</th>\n",
       "      <td>YMG</td>\n",
       "      <td>17.466367</td>\n",
       "    </tr>\n",
       "    <tr>\n",
       "      <th>11</th>\n",
       "      <td>YML</td>\n",
       "      <td>37.694566</td>\n",
       "    </tr>\n",
       "    <tr>\n",
       "      <th>12</th>\n",
       "      <td>YMW</td>\n",
       "      <td>13.870000</td>\n",
       "    </tr>\n",
       "    <tr>\n",
       "      <th>13</th>\n",
       "      <td>YMX</td>\n",
       "      <td>28.481250</td>\n",
       "    </tr>\n",
       "    <tr>\n",
       "      <th>14</th>\n",
       "      <td>YMY</td>\n",
       "      <td>40.911178</td>\n",
       "    </tr>\n",
       "  </tbody>\n",
       "</table>\n",
       "</div>"
      ],
      "text/plain": [
       "   Unnamed: 0  01.03.2023\n",
       "0         MYA    1.109861\n",
       "1         MYB    2.297432\n",
       "2         MYC    3.616713\n",
       "3         MYD    6.918375\n",
       "4         MYE    8.062722\n",
       "5         MYF    4.083130\n",
       "6         YMA    4.392937\n",
       "7         YMC    7.777487\n",
       "8         YME   23.670260\n",
       "9         YMF   10.661487\n",
       "10        YMG   17.466367\n",
       "11        YML   37.694566\n",
       "12        YMW   13.870000\n",
       "13        YMX   28.481250\n",
       "14        YMY   40.911178"
      ]
     },
     "execution_count": 32,
     "metadata": {},
     "output_type": "execute_result"
    }
   ],
   "source": [
    "carton_price"
   ]
  },
  {
   "cell_type": "code",
   "execution_count": 33,
   "metadata": {
    "id": "d6DQ3hvitwa0"
   },
   "outputs": [],
   "source": [
    "carton_price.rename(columns={'Unnamed: 0': 'selected_carton'}, inplace=True)"
   ]
  },
  {
   "attachments": {},
   "cell_type": "markdown",
   "metadata": {
    "id": "bE1DTS6Gtwa0"
   },
   "source": [
    "# Объединение"
   ]
  },
  {
   "attachments": {},
   "cell_type": "markdown",
   "metadata": {
    "id": "7ukpE8Rhtwa0"
   },
   "source": [
    "Сначала создадим общий датафрейм для товара:"
   ]
  },
  {
   "cell_type": "code",
   "execution_count": 34,
   "metadata": {
    "id": "rUEuhZ0ttwa1"
   },
   "outputs": [],
   "source": [
    "total_sku = sku.merge(sku_cargotypes, how='inner', on='sku').merge(cargotype_info, how='inner', on = 'cargotype')"
   ]
  },
  {
   "cell_type": "code",
   "execution_count": 35,
   "metadata": {
    "colab": {
     "base_uri": "https://localhost:8080/",
     "height": 206
    },
    "id": "E-ucQ_9YwnGj",
    "outputId": "1a9a106b-7354-4db9-8e8c-4200b0a2b377"
   },
   "outputs": [
    {
     "data": {
      "text/html": [
       "<div>\n",
       "<style scoped>\n",
       "    .dataframe tbody tr th:only-of-type {\n",
       "        vertical-align: middle;\n",
       "    }\n",
       "\n",
       "    .dataframe tbody tr th {\n",
       "        vertical-align: top;\n",
       "    }\n",
       "\n",
       "    .dataframe thead th {\n",
       "        text-align: right;\n",
       "    }\n",
       "</style>\n",
       "<table border=\"1\" class=\"dataframe\">\n",
       "  <thead>\n",
       "    <tr style=\"text-align: right;\">\n",
       "      <th></th>\n",
       "      <th>Unnamed: 0_x</th>\n",
       "      <th>sku</th>\n",
       "      <th>a</th>\n",
       "      <th>b</th>\n",
       "      <th>c</th>\n",
       "      <th>Unnamed: 0_y</th>\n",
       "      <th>cargotype</th>\n",
       "      <th>description</th>\n",
       "      <th>total_category</th>\n",
       "      <th>transportation rules</th>\n",
       "    </tr>\n",
       "  </thead>\n",
       "  <tbody>\n",
       "    <tr>\n",
       "      <th>0</th>\n",
       "      <td>0</td>\n",
       "      <td>8ba57dcdba9a58b0c4edd180bef6afc9</td>\n",
       "      <td>11.0</td>\n",
       "      <td>31.0</td>\n",
       "      <td>28.0</td>\n",
       "      <td>4575839</td>\n",
       "      <td>200</td>\n",
       "      <td>техника и электроника</td>\n",
       "      <td>электроника</td>\n",
       "      <td>не требует особых правил перевозки</td>\n",
       "    </tr>\n",
       "    <tr>\n",
       "      <th>1</th>\n",
       "      <td>2</td>\n",
       "      <td>8b91fd242bde88f0891380506d9c3caa</td>\n",
       "      <td>12.0</td>\n",
       "      <td>13.0</td>\n",
       "      <td>35.0</td>\n",
       "      <td>4575844</td>\n",
       "      <td>200</td>\n",
       "      <td>техника и электроника</td>\n",
       "      <td>электроника</td>\n",
       "      <td>не требует особых правил перевозки</td>\n",
       "    </tr>\n",
       "    <tr>\n",
       "      <th>2</th>\n",
       "      <td>4</td>\n",
       "      <td>dc0e2542e122731217289b8e6d3bd3f8</td>\n",
       "      <td>96.0</td>\n",
       "      <td>18.0</td>\n",
       "      <td>56.0</td>\n",
       "      <td>4575849</td>\n",
       "      <td>200</td>\n",
       "      <td>техника и электроника</td>\n",
       "      <td>электроника</td>\n",
       "      <td>не требует особых правил перевозки</td>\n",
       "    </tr>\n",
       "    <tr>\n",
       "      <th>3</th>\n",
       "      <td>5</td>\n",
       "      <td>156600848b3684586e60feb0389f95e6</td>\n",
       "      <td>60.0</td>\n",
       "      <td>98.0</td>\n",
       "      <td>12.0</td>\n",
       "      <td>4575856</td>\n",
       "      <td>200</td>\n",
       "      <td>техника и электроника</td>\n",
       "      <td>электроника</td>\n",
       "      <td>не требует особых правил перевозки</td>\n",
       "    </tr>\n",
       "    <tr>\n",
       "      <th>4</th>\n",
       "      <td>9</td>\n",
       "      <td>f75d4778671e8de9e39c6402ec1b9494</td>\n",
       "      <td>81.0</td>\n",
       "      <td>51.0</td>\n",
       "      <td>14.0</td>\n",
       "      <td>4575874</td>\n",
       "      <td>200</td>\n",
       "      <td>техника и электроника</td>\n",
       "      <td>электроника</td>\n",
       "      <td>не требует особых правил перевозки</td>\n",
       "    </tr>\n",
       "  </tbody>\n",
       "</table>\n",
       "</div>"
      ],
      "text/plain": [
       "   Unnamed: 0_x                               sku     a     b     c  \\\n",
       "0             0  8ba57dcdba9a58b0c4edd180bef6afc9  11.0  31.0  28.0   \n",
       "1             2  8b91fd242bde88f0891380506d9c3caa  12.0  13.0  35.0   \n",
       "2             4  dc0e2542e122731217289b8e6d3bd3f8  96.0  18.0  56.0   \n",
       "3             5  156600848b3684586e60feb0389f95e6  60.0  98.0  12.0   \n",
       "4             9  f75d4778671e8de9e39c6402ec1b9494  81.0  51.0  14.0   \n",
       "\n",
       "   Unnamed: 0_y  cargotype            description total_category  \\\n",
       "0       4575839        200  техника и электроника    электроника   \n",
       "1       4575844        200  техника и электроника    электроника   \n",
       "2       4575849        200  техника и электроника    электроника   \n",
       "3       4575856        200  техника и электроника    электроника   \n",
       "4       4575874        200  техника и электроника    электроника   \n",
       "\n",
       "                 transportation rules  \n",
       "0  не требует особых правил перевозки  \n",
       "1  не требует особых правил перевозки  \n",
       "2  не требует особых правил перевозки  \n",
       "3  не требует особых правил перевозки  \n",
       "4  не требует особых правил перевозки  "
      ]
     },
     "execution_count": 35,
     "metadata": {},
     "output_type": "execute_result"
    }
   ],
   "source": [
    "total_sku.head()"
   ]
  },
  {
   "attachments": {},
   "cell_type": "markdown",
   "metadata": {},
   "source": [
    "Unnamed: 0_x и Unnamed: 0_y не несут никакой информации, их можно удалить:"
   ]
  },
  {
   "cell_type": "code",
   "execution_count": 36,
   "metadata": {
    "id": "GUZjXzPrtwa1"
   },
   "outputs": [],
   "source": [
    "total_sku.drop(['Unnamed: 0_x', 'Unnamed: 0_y'], axis=1, inplace=True)"
   ]
  },
  {
   "cell_type": "code",
   "execution_count": 37,
   "metadata": {
    "colab": {
     "base_uri": "https://localhost:8080/",
     "height": 424
    },
    "id": "2NvgmX5Htwa1",
    "outputId": "cd364047-626d-4d8d-8d4c-2b24e6432fb3"
   },
   "outputs": [
    {
     "data": {
      "text/html": [
       "<div>\n",
       "<style scoped>\n",
       "    .dataframe tbody tr th:only-of-type {\n",
       "        vertical-align: middle;\n",
       "    }\n",
       "\n",
       "    .dataframe tbody tr th {\n",
       "        vertical-align: top;\n",
       "    }\n",
       "\n",
       "    .dataframe thead th {\n",
       "        text-align: right;\n",
       "    }\n",
       "</style>\n",
       "<table border=\"1\" class=\"dataframe\">\n",
       "  <thead>\n",
       "    <tr style=\"text-align: right;\">\n",
       "      <th></th>\n",
       "      <th>sku</th>\n",
       "      <th>a</th>\n",
       "      <th>b</th>\n",
       "      <th>c</th>\n",
       "      <th>cargotype</th>\n",
       "      <th>description</th>\n",
       "      <th>total_category</th>\n",
       "      <th>transportation rules</th>\n",
       "    </tr>\n",
       "  </thead>\n",
       "  <tbody>\n",
       "    <tr>\n",
       "      <th>0</th>\n",
       "      <td>8ba57dcdba9a58b0c4edd180bef6afc9</td>\n",
       "      <td>11.0</td>\n",
       "      <td>31.0</td>\n",
       "      <td>28.0</td>\n",
       "      <td>200</td>\n",
       "      <td>техника и электроника</td>\n",
       "      <td>электроника</td>\n",
       "      <td>не требует особых правил перевозки</td>\n",
       "    </tr>\n",
       "    <tr>\n",
       "      <th>1</th>\n",
       "      <td>8b91fd242bde88f0891380506d9c3caa</td>\n",
       "      <td>12.0</td>\n",
       "      <td>13.0</td>\n",
       "      <td>35.0</td>\n",
       "      <td>200</td>\n",
       "      <td>техника и электроника</td>\n",
       "      <td>электроника</td>\n",
       "      <td>не требует особых правил перевозки</td>\n",
       "    </tr>\n",
       "    <tr>\n",
       "      <th>2</th>\n",
       "      <td>dc0e2542e122731217289b8e6d3bd3f8</td>\n",
       "      <td>96.0</td>\n",
       "      <td>18.0</td>\n",
       "      <td>56.0</td>\n",
       "      <td>200</td>\n",
       "      <td>техника и электроника</td>\n",
       "      <td>электроника</td>\n",
       "      <td>не требует особых правил перевозки</td>\n",
       "    </tr>\n",
       "    <tr>\n",
       "      <th>3</th>\n",
       "      <td>156600848b3684586e60feb0389f95e6</td>\n",
       "      <td>60.0</td>\n",
       "      <td>98.0</td>\n",
       "      <td>12.0</td>\n",
       "      <td>200</td>\n",
       "      <td>техника и электроника</td>\n",
       "      <td>электроника</td>\n",
       "      <td>не требует особых правил перевозки</td>\n",
       "    </tr>\n",
       "    <tr>\n",
       "      <th>4</th>\n",
       "      <td>f75d4778671e8de9e39c6402ec1b9494</td>\n",
       "      <td>81.0</td>\n",
       "      <td>51.0</td>\n",
       "      <td>14.0</td>\n",
       "      <td>200</td>\n",
       "      <td>техника и электроника</td>\n",
       "      <td>электроника</td>\n",
       "      <td>не требует особых правил перевозки</td>\n",
       "    </tr>\n",
       "    <tr>\n",
       "      <th>...</th>\n",
       "      <td>...</td>\n",
       "      <td>...</td>\n",
       "      <td>...</td>\n",
       "      <td>...</td>\n",
       "      <td>...</td>\n",
       "      <td>...</td>\n",
       "      <td>...</td>\n",
       "      <td>...</td>\n",
       "    </tr>\n",
       "    <tr>\n",
       "      <th>10938928</th>\n",
       "      <td>559f26db36a110ae872084373d394221</td>\n",
       "      <td>10.0</td>\n",
       "      <td>10.0</td>\n",
       "      <td>10.0</td>\n",
       "      <td>907</td>\n",
       "      <td>рецептурное лекарство</td>\n",
       "      <td>медикаменты</td>\n",
       "      <td>прочие товары, требующие перевозки с терморежимом</td>\n",
       "    </tr>\n",
       "    <tr>\n",
       "      <th>10938929</th>\n",
       "      <td>a59882a4c32d3f9909c41a208a55fc41</td>\n",
       "      <td>11.0</td>\n",
       "      <td>1.0</td>\n",
       "      <td>5.0</td>\n",
       "      <td>907</td>\n",
       "      <td>рецептурное лекарство</td>\n",
       "      <td>медикаменты</td>\n",
       "      <td>прочие товары, требующие перевозки с терморежимом</td>\n",
       "    </tr>\n",
       "    <tr>\n",
       "      <th>10938930</th>\n",
       "      <td>de2c4d3eb34f8ca16a42c50c2fd0d215</td>\n",
       "      <td>11.0</td>\n",
       "      <td>1.0</td>\n",
       "      <td>5.0</td>\n",
       "      <td>907</td>\n",
       "      <td>рецептурное лекарство</td>\n",
       "      <td>медикаменты</td>\n",
       "      <td>прочие товары, требующие перевозки с терморежимом</td>\n",
       "    </tr>\n",
       "    <tr>\n",
       "      <th>10938931</th>\n",
       "      <td>90dd4ffe3ee8e5a3b0363506a663a342</td>\n",
       "      <td>10.0</td>\n",
       "      <td>10.0</td>\n",
       "      <td>10.0</td>\n",
       "      <td>907</td>\n",
       "      <td>рецептурное лекарство</td>\n",
       "      <td>медикаменты</td>\n",
       "      <td>прочие товары, требующие перевозки с терморежимом</td>\n",
       "    </tr>\n",
       "    <tr>\n",
       "      <th>10938932</th>\n",
       "      <td>550066ee830ffb2ce6716a074eaa241f</td>\n",
       "      <td>3.0</td>\n",
       "      <td>8.0</td>\n",
       "      <td>5.0</td>\n",
       "      <td>907</td>\n",
       "      <td>рецептурное лекарство</td>\n",
       "      <td>медикаменты</td>\n",
       "      <td>прочие товары, требующие перевозки с терморежимом</td>\n",
       "    </tr>\n",
       "  </tbody>\n",
       "</table>\n",
       "<p>10938933 rows × 8 columns</p>\n",
       "</div>"
      ],
      "text/plain": [
       "                                       sku     a     b     c  cargotype  \\\n",
       "0         8ba57dcdba9a58b0c4edd180bef6afc9  11.0  31.0  28.0        200   \n",
       "1         8b91fd242bde88f0891380506d9c3caa  12.0  13.0  35.0        200   \n",
       "2         dc0e2542e122731217289b8e6d3bd3f8  96.0  18.0  56.0        200   \n",
       "3         156600848b3684586e60feb0389f95e6  60.0  98.0  12.0        200   \n",
       "4         f75d4778671e8de9e39c6402ec1b9494  81.0  51.0  14.0        200   \n",
       "...                                    ...   ...   ...   ...        ...   \n",
       "10938928  559f26db36a110ae872084373d394221  10.0  10.0  10.0        907   \n",
       "10938929  a59882a4c32d3f9909c41a208a55fc41  11.0   1.0   5.0        907   \n",
       "10938930  de2c4d3eb34f8ca16a42c50c2fd0d215  11.0   1.0   5.0        907   \n",
       "10938931  90dd4ffe3ee8e5a3b0363506a663a342  10.0  10.0  10.0        907   \n",
       "10938932  550066ee830ffb2ce6716a074eaa241f   3.0   8.0   5.0        907   \n",
       "\n",
       "                    description total_category  \\\n",
       "0         техника и электроника    электроника   \n",
       "1         техника и электроника    электроника   \n",
       "2         техника и электроника    электроника   \n",
       "3         техника и электроника    электроника   \n",
       "4         техника и электроника    электроника   \n",
       "...                         ...            ...   \n",
       "10938928  рецептурное лекарство    медикаменты   \n",
       "10938929  рецептурное лекарство    медикаменты   \n",
       "10938930  рецептурное лекарство    медикаменты   \n",
       "10938931  рецептурное лекарство    медикаменты   \n",
       "10938932  рецептурное лекарство    медикаменты   \n",
       "\n",
       "                                       transportation rules  \n",
       "0                        не требует особых правил перевозки  \n",
       "1                        не требует особых правил перевозки  \n",
       "2                        не требует особых правил перевозки  \n",
       "3                        не требует особых правил перевозки  \n",
       "4                        не требует особых правил перевозки  \n",
       "...                                                     ...  \n",
       "10938928  прочие товары, требующие перевозки с терморежимом  \n",
       "10938929  прочие товары, требующие перевозки с терморежимом  \n",
       "10938930  прочие товары, требующие перевозки с терморежимом  \n",
       "10938931  прочие товары, требующие перевозки с терморежимом  \n",
       "10938932  прочие товары, требующие перевозки с терморежимом  \n",
       "\n",
       "[10938933 rows x 8 columns]"
      ]
     },
     "execution_count": 37,
     "metadata": {},
     "output_type": "execute_result"
    }
   ],
   "source": [
    "total_sku"
   ]
  },
  {
   "attachments": {},
   "cell_type": "markdown",
   "metadata": {
    "id": "RCILrVBTtwa2"
   },
   "source": [
    "Теперь к датасету с заказами добавим новые сведения:"
   ]
  },
  {
   "cell_type": "code",
   "execution_count": 38,
   "metadata": {
    "id": "QsSiHv7Htwa2"
   },
   "outputs": [],
   "source": [
    "df = data.merge(total_sku, how='inner', on ='sku')"
   ]
  },
  {
   "attachments": {},
   "cell_type": "markdown",
   "metadata": {},
   "source": [
    "Удалим дубликаты:"
   ]
  },
  {
   "cell_type": "code",
   "execution_count": 39,
   "metadata": {
    "id": "Qu5_JOistwa2"
   },
   "outputs": [],
   "source": [
    "df = df.drop_duplicates()"
   ]
  },
  {
   "attachments": {},
   "cell_type": "markdown",
   "metadata": {},
   "source": [
    "Посмотрим, какой в итоге получили датасет:"
   ]
  },
  {
   "cell_type": "code",
   "execution_count": 40,
   "metadata": {
    "colab": {
     "base_uri": "https://localhost:8080/"
    },
    "id": "9L-xXzcztwa2",
    "outputId": "8905db62-540f-4dd0-c071-f137f6cda8ac"
   },
   "outputs": [
    {
     "name": "stdout",
     "output_type": "stream",
     "text": [
      "<class 'pandas.core.frame.DataFrame'>\n",
      "Int64Index: 590080 entries, 0 to 856902\n",
      "Data columns (total 21 columns):\n",
      " #   Column                  Non-Null Count   Dtype  \n",
      "---  ------                  --------------   -----  \n",
      " 0   whs                     590080 non-null  int64  \n",
      " 1   orderkey                590080 non-null  object \n",
      " 2   selected_cartontype     590080 non-null  object \n",
      " 3   box_num                 590080 non-null  int64  \n",
      " 4   recommended_cartontype  590080 non-null  object \n",
      " 5   selected_carton         590080 non-null  object \n",
      " 6   sel_calc_cube           590080 non-null  int64  \n",
      " 7   recommended_carton      590080 non-null  object \n",
      " 8   pack_volume             590080 non-null  int64  \n",
      " 9   rec_calc_cube           590080 non-null  int64  \n",
      " 10  goods_wght              590080 non-null  float64\n",
      " 11  sku                     590080 non-null  object \n",
      " 12  who                     590080 non-null  object \n",
      " 13  trackingid              590080 non-null  object \n",
      " 14  a                       590080 non-null  float64\n",
      " 15  b                       590080 non-null  float64\n",
      " 16  c                       590080 non-null  float64\n",
      " 17  cargotype               590080 non-null  int64  \n",
      " 18  description             590080 non-null  object \n",
      " 19  total_category          590080 non-null  object \n",
      " 20  transportation rules    590080 non-null  object \n",
      "dtypes: float64(4), int64(6), object(11)\n",
      "memory usage: 99.0+ MB\n"
     ]
    }
   ],
   "source": [
    "df.info()"
   ]
  },
  {
   "attachments": {},
   "cell_type": "markdown",
   "metadata": {
    "id": "FvdiERDStwa3"
   },
   "source": [
    "# Новые признаки"
   ]
  },
  {
   "cell_type": "code",
   "execution_count": 41,
   "metadata": {
    "id": "xz4mw2MFtwa3"
   },
   "outputs": [],
   "source": [
    "#количество товаров в заказе\n",
    "df.loc[:, 'items_in_order'] = df.groupby('orderkey')['sku'].transform('nunique')"
   ]
  },
  {
   "attachments": {},
   "cell_type": "markdown",
   "metadata": {
    "id": "TFAFpH4ptwa3"
   },
   "source": [
    "# Удаление лишней информации"
   ]
  },
  {
   "cell_type": "code",
   "execution_count": 42,
   "metadata": {
    "id": "Vv1llxsutwa3"
   },
   "outputs": [],
   "source": [
    "# удалим информацию об id:\n",
    "df.drop(['whs','selected_cartontype', 'recommended_cartontype', 'who', 'trackingid'], axis = 1, inplace = True)"
   ]
  },
  {
   "cell_type": "code",
   "execution_count": 43,
   "metadata": {
    "id": "cEY35d1Ttwa4"
   },
   "outputs": [],
   "source": [
    "# Оставить только уникальные значения 'sku' для каждого уникального значения 'orderkey'\n",
    "df = df[~df.duplicated(subset=['orderkey', 'sku'])]"
   ]
  },
  {
   "cell_type": "code",
   "execution_count": 44,
   "metadata": {
    "colab": {
     "base_uri": "https://localhost:8080/",
     "height": 527
    },
    "id": "Ww2ZrXOItwa4",
    "outputId": "2f5c6b5d-1b48-4b13-bdfb-f794aa51ac0b"
   },
   "outputs": [
    {
     "data": {
      "text/html": [
       "<div>\n",
       "<style scoped>\n",
       "    .dataframe tbody tr th:only-of-type {\n",
       "        vertical-align: middle;\n",
       "    }\n",
       "\n",
       "    .dataframe tbody tr th {\n",
       "        vertical-align: top;\n",
       "    }\n",
       "\n",
       "    .dataframe thead th {\n",
       "        text-align: right;\n",
       "    }\n",
       "</style>\n",
       "<table border=\"1\" class=\"dataframe\">\n",
       "  <thead>\n",
       "    <tr style=\"text-align: right;\">\n",
       "      <th></th>\n",
       "      <th>orderkey</th>\n",
       "      <th>box_num</th>\n",
       "      <th>selected_carton</th>\n",
       "      <th>sel_calc_cube</th>\n",
       "      <th>recommended_carton</th>\n",
       "      <th>pack_volume</th>\n",
       "      <th>rec_calc_cube</th>\n",
       "      <th>goods_wght</th>\n",
       "      <th>sku</th>\n",
       "      <th>a</th>\n",
       "      <th>b</th>\n",
       "      <th>c</th>\n",
       "      <th>cargotype</th>\n",
       "      <th>description</th>\n",
       "      <th>total_category</th>\n",
       "      <th>transportation rules</th>\n",
       "      <th>items_in_order</th>\n",
       "    </tr>\n",
       "  </thead>\n",
       "  <tbody>\n",
       "    <tr>\n",
       "      <th>64</th>\n",
       "      <td>562306aed686a4c6b6227200d748ea6b</td>\n",
       "      <td>4</td>\n",
       "      <td>MYE</td>\n",
       "      <td>26277</td>\n",
       "      <td>YMG</td>\n",
       "      <td>4518</td>\n",
       "      <td>26820</td>\n",
       "      <td>0.700</td>\n",
       "      <td>d714bc5c946ec01d9b09714524805e5c</td>\n",
       "      <td>14.0</td>\n",
       "      <td>10.7</td>\n",
       "      <td>43.8</td>\n",
       "      <td>340</td>\n",
       "      <td>не требует упаковки</td>\n",
       "      <td>прочее</td>\n",
       "      <td>не требует особых правил перевозки</td>\n",
       "      <td>7</td>\n",
       "    </tr>\n",
       "    <tr>\n",
       "      <th>125000</th>\n",
       "      <td>562306aed686a4c6b6227200d748ea6b</td>\n",
       "      <td>5</td>\n",
       "      <td>YMC</td>\n",
       "      <td>9000</td>\n",
       "      <td>YMA</td>\n",
       "      <td>1440</td>\n",
       "      <td>3705</td>\n",
       "      <td>0.120</td>\n",
       "      <td>c19860fdee4b13b7409924de008e9b4d</td>\n",
       "      <td>16.0</td>\n",
       "      <td>10.0</td>\n",
       "      <td>9.0</td>\n",
       "      <td>340</td>\n",
       "      <td>не требует упаковки</td>\n",
       "      <td>прочее</td>\n",
       "      <td>не требует особых правил перевозки</td>\n",
       "      <td>7</td>\n",
       "    </tr>\n",
       "    <tr>\n",
       "      <th>189782</th>\n",
       "      <td>562306aed686a4c6b6227200d748ea6b</td>\n",
       "      <td>4</td>\n",
       "      <td>MYE</td>\n",
       "      <td>26277</td>\n",
       "      <td>YMG</td>\n",
       "      <td>2000</td>\n",
       "      <td>26820</td>\n",
       "      <td>1.000</td>\n",
       "      <td>3ba984cf07c7dab172256b65731034ae</td>\n",
       "      <td>10.0</td>\n",
       "      <td>20.0</td>\n",
       "      <td>10.0</td>\n",
       "      <td>750</td>\n",
       "      <td>продукты питания</td>\n",
       "      <td>продукты питания</td>\n",
       "      <td>требует раздельной перевозки</td>\n",
       "      <td>7</td>\n",
       "    </tr>\n",
       "    <tr>\n",
       "      <th>329279</th>\n",
       "      <td>562306aed686a4c6b6227200d748ea6b</td>\n",
       "      <td>4</td>\n",
       "      <td>MYE</td>\n",
       "      <td>26277</td>\n",
       "      <td>YMG</td>\n",
       "      <td>572</td>\n",
       "      <td>26820</td>\n",
       "      <td>0.100</td>\n",
       "      <td>0d579d27c4440caee64db40b6ee1ab7d</td>\n",
       "      <td>11.0</td>\n",
       "      <td>4.0</td>\n",
       "      <td>13.0</td>\n",
       "      <td>340</td>\n",
       "      <td>не требует упаковки</td>\n",
       "      <td>прочее</td>\n",
       "      <td>не требует особых правил перевозки</td>\n",
       "      <td>7</td>\n",
       "    </tr>\n",
       "    <tr>\n",
       "      <th>629531</th>\n",
       "      <td>562306aed686a4c6b6227200d748ea6b</td>\n",
       "      <td>1</td>\n",
       "      <td>NONPACK</td>\n",
       "      <td>0</td>\n",
       "      <td>YML</td>\n",
       "      <td>12152</td>\n",
       "      <td>108000</td>\n",
       "      <td>6.479</td>\n",
       "      <td>228db087c03a748211a1f5b056f4f58a</td>\n",
       "      <td>28.5</td>\n",
       "      <td>23.3</td>\n",
       "      <td>18.3</td>\n",
       "      <td>750</td>\n",
       "      <td>продукты питания</td>\n",
       "      <td>продукты питания</td>\n",
       "      <td>требует раздельной перевозки</td>\n",
       "      <td>7</td>\n",
       "    </tr>\n",
       "    <tr>\n",
       "      <th>629547</th>\n",
       "      <td>562306aed686a4c6b6227200d748ea6b</td>\n",
       "      <td>2</td>\n",
       "      <td>NONPACK</td>\n",
       "      <td>0</td>\n",
       "      <td>YME</td>\n",
       "      <td>11500</td>\n",
       "      <td>40050</td>\n",
       "      <td>6.000</td>\n",
       "      <td>63e7d84f885afac82fd3c72a2e5713b1</td>\n",
       "      <td>20.0</td>\n",
       "      <td>23.0</td>\n",
       "      <td>25.0</td>\n",
       "      <td>750</td>\n",
       "      <td>продукты питания</td>\n",
       "      <td>продукты питания</td>\n",
       "      <td>требует раздельной перевозки</td>\n",
       "      <td>7</td>\n",
       "    </tr>\n",
       "    <tr>\n",
       "      <th>634253</th>\n",
       "      <td>562306aed686a4c6b6227200d748ea6b</td>\n",
       "      <td>3</td>\n",
       "      <td>NONPACK</td>\n",
       "      <td>0</td>\n",
       "      <td>YMG</td>\n",
       "      <td>12612</td>\n",
       "      <td>26820</td>\n",
       "      <td>6.454</td>\n",
       "      <td>5583bff21dcd931c8572c5b624edaa60</td>\n",
       "      <td>19.6</td>\n",
       "      <td>23.4</td>\n",
       "      <td>27.5</td>\n",
       "      <td>750</td>\n",
       "      <td>продукты питания</td>\n",
       "      <td>продукты питания</td>\n",
       "      <td>требует раздельной перевозки</td>\n",
       "      <td>7</td>\n",
       "    </tr>\n",
       "  </tbody>\n",
       "</table>\n",
       "</div>"
      ],
      "text/plain": [
       "                                orderkey  box_num selected_carton  \\\n",
       "64      562306aed686a4c6b6227200d748ea6b        4             MYE   \n",
       "125000  562306aed686a4c6b6227200d748ea6b        5             YMC   \n",
       "189782  562306aed686a4c6b6227200d748ea6b        4             MYE   \n",
       "329279  562306aed686a4c6b6227200d748ea6b        4             MYE   \n",
       "629531  562306aed686a4c6b6227200d748ea6b        1         NONPACK   \n",
       "629547  562306aed686a4c6b6227200d748ea6b        2         NONPACK   \n",
       "634253  562306aed686a4c6b6227200d748ea6b        3         NONPACK   \n",
       "\n",
       "        sel_calc_cube recommended_carton  pack_volume  rec_calc_cube  \\\n",
       "64              26277                YMG         4518          26820   \n",
       "125000           9000                YMA         1440           3705   \n",
       "189782          26277                YMG         2000          26820   \n",
       "329279          26277                YMG          572          26820   \n",
       "629531              0                YML        12152         108000   \n",
       "629547              0                YME        11500          40050   \n",
       "634253              0                YMG        12612          26820   \n",
       "\n",
       "        goods_wght                               sku     a     b     c  \\\n",
       "64           0.700  d714bc5c946ec01d9b09714524805e5c  14.0  10.7  43.8   \n",
       "125000       0.120  c19860fdee4b13b7409924de008e9b4d  16.0  10.0   9.0   \n",
       "189782       1.000  3ba984cf07c7dab172256b65731034ae  10.0  20.0  10.0   \n",
       "329279       0.100  0d579d27c4440caee64db40b6ee1ab7d  11.0   4.0  13.0   \n",
       "629531       6.479  228db087c03a748211a1f5b056f4f58a  28.5  23.3  18.3   \n",
       "629547       6.000  63e7d84f885afac82fd3c72a2e5713b1  20.0  23.0  25.0   \n",
       "634253       6.454  5583bff21dcd931c8572c5b624edaa60  19.6  23.4  27.5   \n",
       "\n",
       "        cargotype          description    total_category  \\\n",
       "64            340  не требует упаковки            прочее   \n",
       "125000        340  не требует упаковки            прочее   \n",
       "189782        750     продукты питания  продукты питания   \n",
       "329279        340  не требует упаковки            прочее   \n",
       "629531        750     продукты питания  продукты питания   \n",
       "629547        750     продукты питания  продукты питания   \n",
       "634253        750     продукты питания  продукты питания   \n",
       "\n",
       "                      transportation rules  items_in_order  \n",
       "64      не требует особых правил перевозки               7  \n",
       "125000  не требует особых правил перевозки               7  \n",
       "189782        требует раздельной перевозки               7  \n",
       "329279  не требует особых правил перевозки               7  \n",
       "629531        требует раздельной перевозки               7  \n",
       "629547        требует раздельной перевозки               7  \n",
       "634253        требует раздельной перевозки               7  "
      ]
     },
     "execution_count": 44,
     "metadata": {},
     "output_type": "execute_result"
    }
   ],
   "source": [
    "df[df['orderkey']== '562306aed686a4c6b6227200d748ea6b']"
   ]
  },
  {
   "cell_type": "code",
   "execution_count": 45,
   "metadata": {
    "colab": {
     "base_uri": "https://localhost:8080/"
    },
    "id": "ormkfDN0twa4",
    "outputId": "42470fc6-fa72-4ed0-e0aa-089e180a130f"
   },
   "outputs": [
    {
     "name": "stdout",
     "output_type": "stream",
     "text": [
      "<class 'pandas.core.frame.DataFrame'>\n",
      "Int64Index: 189728 entries, 0 to 856900\n",
      "Data columns (total 17 columns):\n",
      " #   Column                Non-Null Count   Dtype  \n",
      "---  ------                --------------   -----  \n",
      " 0   orderkey              189728 non-null  object \n",
      " 1   box_num               189728 non-null  int64  \n",
      " 2   selected_carton       189728 non-null  object \n",
      " 3   sel_calc_cube         189728 non-null  int64  \n",
      " 4   recommended_carton    189728 non-null  object \n",
      " 5   pack_volume           189728 non-null  int64  \n",
      " 6   rec_calc_cube         189728 non-null  int64  \n",
      " 7   goods_wght            189728 non-null  float64\n",
      " 8   sku                   189728 non-null  object \n",
      " 9   a                     189728 non-null  float64\n",
      " 10  b                     189728 non-null  float64\n",
      " 11  c                     189728 non-null  float64\n",
      " 12  cargotype             189728 non-null  int64  \n",
      " 13  description           189728 non-null  object \n",
      " 14  total_category        189728 non-null  object \n",
      " 15  transportation rules  189728 non-null  object \n",
      " 16  items_in_order        189728 non-null  int64  \n",
      "dtypes: float64(4), int64(6), object(7)\n",
      "memory usage: 26.1+ MB\n"
     ]
    }
   ],
   "source": [
    "df.info()"
   ]
  },
  {
   "attachments": {},
   "cell_type": "markdown",
   "metadata": {},
   "source": [
    "Получилось 189728 строк с данными. Мы видим сам товар, к какому типу он относится, как его лучше доставить, сколько всего товаров в заказе, размеры товара и его вес."
   ]
  },
  {
   "attachments": {},
   "cell_type": "markdown",
   "metadata": {},
   "source": [
    "Проверим, есть ли пропуски в данных:"
   ]
  },
  {
   "cell_type": "code",
   "execution_count": 46,
   "metadata": {
    "colab": {
     "base_uri": "https://localhost:8080/"
    },
    "id": "dlV8U5SStwa4",
    "outputId": "8ca17956-59fb-4165-959e-9dfcda848c48"
   },
   "outputs": [
    {
     "data": {
      "text/plain": [
       "orderkey                0.0\n",
       "box_num                 0.0\n",
       "selected_carton         0.0\n",
       "sel_calc_cube           0.0\n",
       "recommended_carton      0.0\n",
       "pack_volume             0.0\n",
       "rec_calc_cube           0.0\n",
       "goods_wght              0.0\n",
       "sku                     0.0\n",
       "a                       0.0\n",
       "b                       0.0\n",
       "c                       0.0\n",
       "cargotype               0.0\n",
       "description             0.0\n",
       "total_category          0.0\n",
       "transportation rules    0.0\n",
       "items_in_order          0.0\n",
       "dtype: float64"
      ]
     },
     "execution_count": 46,
     "metadata": {},
     "output_type": "execute_result"
    }
   ],
   "source": [
    "df.isnull().mean()"
   ]
  },
  {
   "attachments": {},
   "cell_type": "markdown",
   "metadata": {},
   "source": [
    "Пропуски отсутсвуют."
   ]
  },
  {
   "cell_type": "code",
   "execution_count": 47,
   "metadata": {
    "colab": {
     "base_uri": "https://localhost:8080/",
     "height": 300
    },
    "id": "9dHUvBwhtwa5",
    "outputId": "e08fe3c4-661a-4048-f36a-dfe57d9dc329"
   },
   "outputs": [
    {
     "data": {
      "text/html": [
       "<div>\n",
       "<style scoped>\n",
       "    .dataframe tbody tr th:only-of-type {\n",
       "        vertical-align: middle;\n",
       "    }\n",
       "\n",
       "    .dataframe tbody tr th {\n",
       "        vertical-align: top;\n",
       "    }\n",
       "\n",
       "    .dataframe thead th {\n",
       "        text-align: right;\n",
       "    }\n",
       "</style>\n",
       "<table border=\"1\" class=\"dataframe\">\n",
       "  <thead>\n",
       "    <tr style=\"text-align: right;\">\n",
       "      <th></th>\n",
       "      <th>box_num</th>\n",
       "      <th>sel_calc_cube</th>\n",
       "      <th>pack_volume</th>\n",
       "      <th>rec_calc_cube</th>\n",
       "      <th>goods_wght</th>\n",
       "      <th>a</th>\n",
       "      <th>b</th>\n",
       "      <th>c</th>\n",
       "      <th>cargotype</th>\n",
       "      <th>items_in_order</th>\n",
       "    </tr>\n",
       "  </thead>\n",
       "  <tbody>\n",
       "    <tr>\n",
       "      <th>count</th>\n",
       "      <td>189728.000000</td>\n",
       "      <td>189728.000000</td>\n",
       "      <td>1.897280e+05</td>\n",
       "      <td>189728.000000</td>\n",
       "      <td>189728.000000</td>\n",
       "      <td>189728.000000</td>\n",
       "      <td>189728.000000</td>\n",
       "      <td>189728.000000</td>\n",
       "      <td>189728.000000</td>\n",
       "      <td>189728.000000</td>\n",
       "    </tr>\n",
       "    <tr>\n",
       "      <th>mean</th>\n",
       "      <td>1.156155</td>\n",
       "      <td>9368.840783</td>\n",
       "      <td>4.665928e+03</td>\n",
       "      <td>14120.884661</td>\n",
       "      <td>1.082494</td>\n",
       "      <td>18.705252</td>\n",
       "      <td>12.045849</td>\n",
       "      <td>14.649607</td>\n",
       "      <td>533.298480</td>\n",
       "      <td>2.518785</td>\n",
       "    </tr>\n",
       "    <tr>\n",
       "      <th>std</th>\n",
       "      <td>2.876364</td>\n",
       "      <td>10846.774881</td>\n",
       "      <td>1.581776e+04</td>\n",
       "      <td>21056.023703</td>\n",
       "      <td>2.757586</td>\n",
       "      <td>18.196864</td>\n",
       "      <td>10.432553</td>\n",
       "      <td>11.269872</td>\n",
       "      <td>235.222219</td>\n",
       "      <td>5.521020</td>\n",
       "    </tr>\n",
       "    <tr>\n",
       "      <th>min</th>\n",
       "      <td>1.000000</td>\n",
       "      <td>0.000000</td>\n",
       "      <td>1.000000e+00</td>\n",
       "      <td>0.000000</td>\n",
       "      <td>0.001000</td>\n",
       "      <td>0.100000</td>\n",
       "      <td>0.010000</td>\n",
       "      <td>0.100000</td>\n",
       "      <td>160.000000</td>\n",
       "      <td>1.000000</td>\n",
       "    </tr>\n",
       "    <tr>\n",
       "      <th>25%</th>\n",
       "      <td>1.000000</td>\n",
       "      <td>3449.000000</td>\n",
       "      <td>5.000000e+02</td>\n",
       "      <td>3449.000000</td>\n",
       "      <td>0.120000</td>\n",
       "      <td>8.500000</td>\n",
       "      <td>5.000000</td>\n",
       "      <td>7.000000</td>\n",
       "      <td>340.000000</td>\n",
       "      <td>1.000000</td>\n",
       "    </tr>\n",
       "    <tr>\n",
       "      <th>50%</th>\n",
       "      <td>1.000000</td>\n",
       "      <td>8436.000000</td>\n",
       "      <td>1.225000e+03</td>\n",
       "      <td>8436.000000</td>\n",
       "      <td>0.320000</td>\n",
       "      <td>14.000000</td>\n",
       "      <td>9.000000</td>\n",
       "      <td>11.000000</td>\n",
       "      <td>490.000000</td>\n",
       "      <td>1.000000</td>\n",
       "    </tr>\n",
       "    <tr>\n",
       "      <th>75%</th>\n",
       "      <td>1.000000</td>\n",
       "      <td>13125.000000</td>\n",
       "      <td>3.534000e+03</td>\n",
       "      <td>15579.000000</td>\n",
       "      <td>0.900000</td>\n",
       "      <td>22.000000</td>\n",
       "      <td>17.000000</td>\n",
       "      <td>19.000000</td>\n",
       "      <td>750.000000</td>\n",
       "      <td>3.000000</td>\n",
       "    </tr>\n",
       "    <tr>\n",
       "      <th>max</th>\n",
       "      <td>235.000000</td>\n",
       "      <td>108000.000000</td>\n",
       "      <td>1.815450e+06</td>\n",
       "      <td>108000.000000</td>\n",
       "      <td>88.000000</td>\n",
       "      <td>257.000000</td>\n",
       "      <td>240.000000</td>\n",
       "      <td>200.000000</td>\n",
       "      <td>1010.000000</td>\n",
       "      <td>162.000000</td>\n",
       "    </tr>\n",
       "  </tbody>\n",
       "</table>\n",
       "</div>"
      ],
      "text/plain": [
       "             box_num  sel_calc_cube   pack_volume  rec_calc_cube  \\\n",
       "count  189728.000000  189728.000000  1.897280e+05  189728.000000   \n",
       "mean        1.156155    9368.840783  4.665928e+03   14120.884661   \n",
       "std         2.876364   10846.774881  1.581776e+04   21056.023703   \n",
       "min         1.000000       0.000000  1.000000e+00       0.000000   \n",
       "25%         1.000000    3449.000000  5.000000e+02    3449.000000   \n",
       "50%         1.000000    8436.000000  1.225000e+03    8436.000000   \n",
       "75%         1.000000   13125.000000  3.534000e+03   15579.000000   \n",
       "max       235.000000  108000.000000  1.815450e+06  108000.000000   \n",
       "\n",
       "          goods_wght              a              b              c  \\\n",
       "count  189728.000000  189728.000000  189728.000000  189728.000000   \n",
       "mean        1.082494      18.705252      12.045849      14.649607   \n",
       "std         2.757586      18.196864      10.432553      11.269872   \n",
       "min         0.001000       0.100000       0.010000       0.100000   \n",
       "25%         0.120000       8.500000       5.000000       7.000000   \n",
       "50%         0.320000      14.000000       9.000000      11.000000   \n",
       "75%         0.900000      22.000000      17.000000      19.000000   \n",
       "max        88.000000     257.000000     240.000000     200.000000   \n",
       "\n",
       "           cargotype  items_in_order  \n",
       "count  189728.000000   189728.000000  \n",
       "mean      533.298480        2.518785  \n",
       "std       235.222219        5.521020  \n",
       "min       160.000000        1.000000  \n",
       "25%       340.000000        1.000000  \n",
       "50%       490.000000        1.000000  \n",
       "75%       750.000000        3.000000  \n",
       "max      1010.000000      162.000000  "
      ]
     },
     "execution_count": 47,
     "metadata": {},
     "output_type": "execute_result"
    }
   ],
   "source": [
    "df.describe()"
   ]
  },
  {
   "attachments": {},
   "cell_type": "markdown",
   "metadata": {},
   "source": [
    "75% датасета составляют заказы в которых от одного до трех товаров."
   ]
  },
  {
   "cell_type": "code",
   "execution_count": 48,
   "metadata": {
    "colab": {
     "base_uri": "https://localhost:8080/",
     "height": 499
    },
    "id": "Uk77hi0rtwa5",
    "outputId": "b3316a72-d103-4331-a558-f6909abcb181"
   },
   "outputs": [
    {
     "data": {
      "image/png": "[encoded data removed]",
      "text/plain": [
       "<Figure size 640x480 with 1 Axes>"
      ]
     },
     "metadata": {},
     "output_type": "display_data"
    }
   ],
   "source": [
    "plt.hist(df['items_in_order'], bins=10) \n",
    "plt.show()"
   ]
  },
  {
   "cell_type": "code",
   "execution_count": 51,
   "metadata": {
    "colab": {
     "base_uri": "https://localhost:8080/",
     "height": 482
    },
    "id": "9z_yYT74twa5",
    "outputId": "cdc34a6b-7c23-4e92-e498-34aabc3fc862"
   },
   "outputs": [
    {
     "data": {
      "image/png": "[encoded data removed]",
      "text/plain": [
       "<Figure size 1500x500 with 1 Axes>"
      ]
     },
     "metadata": {},
     "output_type": "display_data"
    }
   ],
   "source": [
    "# Установка размера графика\n",
    "plt.figure(figsize=(15, 5))  # Здесь (10, 6) - это размеры графика в дюймах (ширина, высота)\n",
    "\n",
    "# Построение горизонтального боксплота для столбца 'имя_столбца' с использованием seaborn\n",
    "sns.boxplot(data=df, x='items_in_order', orient='h')\n",
    "plt.show()"
   ]
  },
  {
   "attachments": {},
   "cell_type": "markdown",
   "metadata": {},
   "source": [
    "Можно сказать, что больше 10 товаров в заказе встречается крайне редко. Для дальнейшего решения задачи можно отсееть все заказы, в которых больше 10 товаров. Максимальное число товаров в заказе - 160 - это скорее аномалия."
   ]
  },
  {
   "cell_type": "code",
   "execution_count": 52,
   "metadata": {
    "id": "CCnyUZxxtwa6"
   },
   "outputs": [],
   "source": [
    "carton_new = carton.copy()"
   ]
  },
  {
   "cell_type": "code",
   "execution_count": 53,
   "metadata": {
    "id": "ew3a-KfItwa6"
   },
   "outputs": [],
   "source": [
    "carton_new['carton_volume'] = carton_new['LENGTH']*carton_new['WIDTH']*carton_new['HEIGHT']"
   ]
  },
  {
   "cell_type": "code",
   "execution_count": 54,
   "metadata": {
    "id": "Xu32MlRjtwa6"
   },
   "outputs": [],
   "source": [
    "# Группировка по 'orderkey' и 'transportation rules' и вычисление суммы 'pack_volume'\n",
    "df['total_pack_volume'] = df.groupby(['orderkey', 'transportation rules'])['pack_volume'].transform('sum')\n"
   ]
  },
  {
   "cell_type": "code",
   "execution_count": 55,
   "metadata": {
    "id": "EzLq7MjLtwa6"
   },
   "outputs": [],
   "source": [
    "# Вычисление суммы 'pack_volume' с учетом фильтрации по 'description'\n",
    "df['total_pack_volume_filtered'] = df.loc[df['description'] != 'не требует упаковки'].groupby(['orderkey', 'transportation rules']) \\\n",
    "    ['pack_volume'].transform('sum')"
   ]
  },
  {
   "cell_type": "code",
   "execution_count": 56,
   "metadata": {
    "id": "YGSueCpftwa7"
   },
   "outputs": [],
   "source": [
    "# добавляем название упаковки\n",
    "def add_packaging(row):\n",
    "    product_volume = row['total_pack_volume_filtered']\n",
    "    matching_cartons = carton_new[carton_new['carton_volume'] >= product_volume]\n",
    "    if not matching_cartons.empty:\n",
    "        packaging_volume = matching_cartons['carton_volume'].min()\n",
    "        packaging_name = carton_new.loc[carton_new['carton_volume'] == packaging_volume, 'selected_carton'].values[0]\n",
    "    else:\n",
    "        packaging_name = 'NONPACK'\n",
    "    return packaging_name\n",
    "\n",
    "df['packaging'] = df.apply(add_packaging, axis=1)\n"
   ]
  },
  {
   "cell_type": "code",
   "execution_count": 57,
   "metadata": {
    "colab": {
     "base_uri": "https://localhost:8080/",
     "height": 835
    },
    "id": "pETHsswYtwa7",
    "outputId": "c11c249c-544f-4a7f-9c57-9449a92d3baf"
   },
   "outputs": [
    {
     "data": {
      "text/html": [
       "<div>\n",
       "<style scoped>\n",
       "    .dataframe tbody tr th:only-of-type {\n",
       "        vertical-align: middle;\n",
       "    }\n",
       "\n",
       "    .dataframe tbody tr th {\n",
       "        vertical-align: top;\n",
       "    }\n",
       "\n",
       "    .dataframe thead th {\n",
       "        text-align: right;\n",
       "    }\n",
       "</style>\n",
       "<table border=\"1\" class=\"dataframe\">\n",
       "  <thead>\n",
       "    <tr style=\"text-align: right;\">\n",
       "      <th></th>\n",
       "      <th>orderkey</th>\n",
       "      <th>box_num</th>\n",
       "      <th>selected_carton</th>\n",
       "      <th>sel_calc_cube</th>\n",
       "      <th>recommended_carton</th>\n",
       "      <th>pack_volume</th>\n",
       "      <th>rec_calc_cube</th>\n",
       "      <th>goods_wght</th>\n",
       "      <th>sku</th>\n",
       "      <th>a</th>\n",
       "      <th>b</th>\n",
       "      <th>c</th>\n",
       "      <th>cargotype</th>\n",
       "      <th>description</th>\n",
       "      <th>total_category</th>\n",
       "      <th>transportation rules</th>\n",
       "      <th>items_in_order</th>\n",
       "      <th>total_pack_volume</th>\n",
       "      <th>total_pack_volume_filtered</th>\n",
       "      <th>packaging</th>\n",
       "    </tr>\n",
       "  </thead>\n",
       "  <tbody>\n",
       "    <tr>\n",
       "      <th>0</th>\n",
       "      <td>d48f3211c1ffccdc374f23139a9ab668</td>\n",
       "      <td>1</td>\n",
       "      <td>NONPACK</td>\n",
       "      <td>0</td>\n",
       "      <td>YML</td>\n",
       "      <td>2046</td>\n",
       "      <td>108000</td>\n",
       "      <td>0.100</td>\n",
       "      <td>af49bf330e2cf16e44f0be1bdfe337bd</td>\n",
       "      <td>11.0</td>\n",
       "      <td>6.0</td>\n",
       "      <td>31.0</td>\n",
       "      <td>970</td>\n",
       "      <td>впитывает запах</td>\n",
       "      <td>одежда, обувь, аксессуары</td>\n",
       "      <td>не требует особых правил перевозки</td>\n",
       "      <td>3</td>\n",
       "      <td>6138</td>\n",
       "      <td>6138.0</td>\n",
       "      <td>MYC</td>\n",
       "    </tr>\n",
       "    <tr>\n",
       "      <th>51</th>\n",
       "      <td>4b33fcc98ea1f59d6fe4eb2e0a48bb4b</td>\n",
       "      <td>1</td>\n",
       "      <td>STRETCH</td>\n",
       "      <td>0</td>\n",
       "      <td>MYD</td>\n",
       "      <td>3050</td>\n",
       "      <td>15579</td>\n",
       "      <td>0.896</td>\n",
       "      <td>6287a74b664fd8ad4ed5c541b399a82b</td>\n",
       "      <td>18.6</td>\n",
       "      <td>3.3</td>\n",
       "      <td>49.7</td>\n",
       "      <td>200</td>\n",
       "      <td>техника и электроника</td>\n",
       "      <td>электроника</td>\n",
       "      <td>не требует особых правил перевозки</td>\n",
       "      <td>1</td>\n",
       "      <td>3050</td>\n",
       "      <td>3050.0</td>\n",
       "      <td>MYB</td>\n",
       "    </tr>\n",
       "    <tr>\n",
       "      <th>52</th>\n",
       "      <td>01277a58f3aa98c06db9046699ec162d</td>\n",
       "      <td>1</td>\n",
       "      <td>MYE</td>\n",
       "      <td>26277</td>\n",
       "      <td>MYD</td>\n",
       "      <td>3050</td>\n",
       "      <td>15579</td>\n",
       "      <td>0.896</td>\n",
       "      <td>6287a74b664fd8ad4ed5c541b399a82b</td>\n",
       "      <td>18.6</td>\n",
       "      <td>3.3</td>\n",
       "      <td>49.7</td>\n",
       "      <td>200</td>\n",
       "      <td>техника и электроника</td>\n",
       "      <td>электроника</td>\n",
       "      <td>не требует особых правил перевозки</td>\n",
       "      <td>1</td>\n",
       "      <td>3050</td>\n",
       "      <td>3050.0</td>\n",
       "      <td>MYB</td>\n",
       "    </tr>\n",
       "    <tr>\n",
       "      <th>53</th>\n",
       "      <td>19ca05955536663c48d156fdb245576f</td>\n",
       "      <td>1</td>\n",
       "      <td>STRETCH</td>\n",
       "      <td>0</td>\n",
       "      <td>MYD</td>\n",
       "      <td>3050</td>\n",
       "      <td>15579</td>\n",
       "      <td>0.896</td>\n",
       "      <td>6287a74b664fd8ad4ed5c541b399a82b</td>\n",
       "      <td>18.6</td>\n",
       "      <td>3.3</td>\n",
       "      <td>49.7</td>\n",
       "      <td>200</td>\n",
       "      <td>техника и электроника</td>\n",
       "      <td>электроника</td>\n",
       "      <td>не требует особых правил перевозки</td>\n",
       "      <td>1</td>\n",
       "      <td>3050</td>\n",
       "      <td>3050.0</td>\n",
       "      <td>MYB</td>\n",
       "    </tr>\n",
       "    <tr>\n",
       "      <th>54</th>\n",
       "      <td>e14e21fd406ff6774e69660a492a932a</td>\n",
       "      <td>1</td>\n",
       "      <td>MYE</td>\n",
       "      <td>26277</td>\n",
       "      <td>MYD</td>\n",
       "      <td>3050</td>\n",
       "      <td>15579</td>\n",
       "      <td>0.896</td>\n",
       "      <td>6287a74b664fd8ad4ed5c541b399a82b</td>\n",
       "      <td>18.6</td>\n",
       "      <td>3.3</td>\n",
       "      <td>49.7</td>\n",
       "      <td>200</td>\n",
       "      <td>техника и электроника</td>\n",
       "      <td>электроника</td>\n",
       "      <td>не требует особых правил перевозки</td>\n",
       "      <td>1</td>\n",
       "      <td>3050</td>\n",
       "      <td>3050.0</td>\n",
       "      <td>MYB</td>\n",
       "    </tr>\n",
       "    <tr>\n",
       "      <th>...</th>\n",
       "      <td>...</td>\n",
       "      <td>...</td>\n",
       "      <td>...</td>\n",
       "      <td>...</td>\n",
       "      <td>...</td>\n",
       "      <td>...</td>\n",
       "      <td>...</td>\n",
       "      <td>...</td>\n",
       "      <td>...</td>\n",
       "      <td>...</td>\n",
       "      <td>...</td>\n",
       "      <td>...</td>\n",
       "      <td>...</td>\n",
       "      <td>...</td>\n",
       "      <td>...</td>\n",
       "      <td>...</td>\n",
       "      <td>...</td>\n",
       "      <td>...</td>\n",
       "      <td>...</td>\n",
       "      <td>...</td>\n",
       "    </tr>\n",
       "    <tr>\n",
       "      <th>856882</th>\n",
       "      <td>49a255ef0fa15f30c54251d9e386e480</td>\n",
       "      <td>3</td>\n",
       "      <td>NONPACK</td>\n",
       "      <td>0</td>\n",
       "      <td>NONPACK</td>\n",
       "      <td>1617</td>\n",
       "      <td>0</td>\n",
       "      <td>0.430</td>\n",
       "      <td>29dbb42befa2f176eb50828deba50afc</td>\n",
       "      <td>77.0</td>\n",
       "      <td>3.0</td>\n",
       "      <td>6.0</td>\n",
       "      <td>200</td>\n",
       "      <td>техника и электроника</td>\n",
       "      <td>электроника</td>\n",
       "      <td>не требует особых правил перевозки</td>\n",
       "      <td>1</td>\n",
       "      <td>1617</td>\n",
       "      <td>1617.0</td>\n",
       "      <td>YMU</td>\n",
       "    </tr>\n",
       "    <tr>\n",
       "      <th>856892</th>\n",
       "      <td>379f923b506613b3bd8d3f1bf1cc7092</td>\n",
       "      <td>2</td>\n",
       "      <td>YMW</td>\n",
       "      <td>21812</td>\n",
       "      <td>YMW</td>\n",
       "      <td>6000</td>\n",
       "      <td>21812</td>\n",
       "      <td>0.150</td>\n",
       "      <td>b7ab1a9260ebc1d53774714b24c02dd3</td>\n",
       "      <td>15.0</td>\n",
       "      <td>20.0</td>\n",
       "      <td>20.0</td>\n",
       "      <td>200</td>\n",
       "      <td>техника и электроника</td>\n",
       "      <td>электроника</td>\n",
       "      <td>не требует особых правил перевозки</td>\n",
       "      <td>4</td>\n",
       "      <td>14578</td>\n",
       "      <td>6800.0</td>\n",
       "      <td>MYC</td>\n",
       "    </tr>\n",
       "    <tr>\n",
       "      <th>856895</th>\n",
       "      <td>2da5e30c36487a43f6b647f1fa223da4</td>\n",
       "      <td>1</td>\n",
       "      <td>MYE</td>\n",
       "      <td>10836</td>\n",
       "      <td>MYE</td>\n",
       "      <td>1400</td>\n",
       "      <td>10836</td>\n",
       "      <td>0.160</td>\n",
       "      <td>ba0b176dc645058663de285b479163b3</td>\n",
       "      <td>50.0</td>\n",
       "      <td>1.0</td>\n",
       "      <td>28.0</td>\n",
       "      <td>340</td>\n",
       "      <td>не требует упаковки</td>\n",
       "      <td>прочее</td>\n",
       "      <td>не требует особых правил перевозки</td>\n",
       "      <td>3</td>\n",
       "      <td>5237</td>\n",
       "      <td>NaN</td>\n",
       "      <td>NONPACK</td>\n",
       "    </tr>\n",
       "    <tr>\n",
       "      <th>856896</th>\n",
       "      <td>27ac554d4db530391356b9e3125c5f6d</td>\n",
       "      <td>1</td>\n",
       "      <td>MYC</td>\n",
       "      <td>4560</td>\n",
       "      <td>YMC</td>\n",
       "      <td>2688</td>\n",
       "      <td>8525</td>\n",
       "      <td>0.140</td>\n",
       "      <td>0940ce4ed3c65c5713a169bdf824dfcc</td>\n",
       "      <td>28.0</td>\n",
       "      <td>8.0</td>\n",
       "      <td>12.0</td>\n",
       "      <td>340</td>\n",
       "      <td>не требует упаковки</td>\n",
       "      <td>прочее</td>\n",
       "      <td>не требует особых правил перевозки</td>\n",
       "      <td>1</td>\n",
       "      <td>2688</td>\n",
       "      <td>NaN</td>\n",
       "      <td>NONPACK</td>\n",
       "    </tr>\n",
       "    <tr>\n",
       "      <th>856900</th>\n",
       "      <td>6f20ae162fb9d653194902ec993dedb9</td>\n",
       "      <td>6</td>\n",
       "      <td>NONPACK</td>\n",
       "      <td>0</td>\n",
       "      <td>NONPACK</td>\n",
       "      <td>1832</td>\n",
       "      <td>0</td>\n",
       "      <td>0.878</td>\n",
       "      <td>74ec431f87644bfed9baca351fffcdee</td>\n",
       "      <td>231.0</td>\n",
       "      <td>1.0</td>\n",
       "      <td>8.0</td>\n",
       "      <td>300</td>\n",
       "      <td>тяжеловесный и крупногабаритный</td>\n",
       "      <td>крупногабаритные товары</td>\n",
       "      <td>крупногабаритный груз</td>\n",
       "      <td>4</td>\n",
       "      <td>39857</td>\n",
       "      <td>39857.0</td>\n",
       "      <td>YME</td>\n",
       "    </tr>\n",
       "  </tbody>\n",
       "</table>\n",
       "<p>189728 rows × 20 columns</p>\n",
       "</div>"
      ],
      "text/plain": [
       "                                orderkey  box_num selected_carton  \\\n",
       "0       d48f3211c1ffccdc374f23139a9ab668        1         NONPACK   \n",
       "51      4b33fcc98ea1f59d6fe4eb2e0a48bb4b        1         STRETCH   \n",
       "52      01277a58f3aa98c06db9046699ec162d        1             MYE   \n",
       "53      19ca05955536663c48d156fdb245576f        1         STRETCH   \n",
       "54      e14e21fd406ff6774e69660a492a932a        1             MYE   \n",
       "...                                  ...      ...             ...   \n",
       "856882  49a255ef0fa15f30c54251d9e386e480        3         NONPACK   \n",
       "856892  379f923b506613b3bd8d3f1bf1cc7092        2             YMW   \n",
       "856895  2da5e30c36487a43f6b647f1fa223da4        1             MYE   \n",
       "856896  27ac554d4db530391356b9e3125c5f6d        1             MYC   \n",
       "856900  6f20ae162fb9d653194902ec993dedb9        6         NONPACK   \n",
       "\n",
       "        sel_calc_cube recommended_carton  pack_volume  rec_calc_cube  \\\n",
       "0                   0                YML         2046         108000   \n",
       "51                  0                MYD         3050          15579   \n",
       "52              26277                MYD         3050          15579   \n",
       "53                  0                MYD         3050          15579   \n",
       "54              26277                MYD         3050          15579   \n",
       "...               ...                ...          ...            ...   \n",
       "856882              0            NONPACK         1617              0   \n",
       "856892          21812                YMW         6000          21812   \n",
       "856895          10836                MYE         1400          10836   \n",
       "856896           4560                YMC         2688           8525   \n",
       "856900              0            NONPACK         1832              0   \n",
       "\n",
       "        goods_wght                               sku      a     b     c  \\\n",
       "0            0.100  af49bf330e2cf16e44f0be1bdfe337bd   11.0   6.0  31.0   \n",
       "51           0.896  6287a74b664fd8ad4ed5c541b399a82b   18.6   3.3  49.7   \n",
       "52           0.896  6287a74b664fd8ad4ed5c541b399a82b   18.6   3.3  49.7   \n",
       "53           0.896  6287a74b664fd8ad4ed5c541b399a82b   18.6   3.3  49.7   \n",
       "54           0.896  6287a74b664fd8ad4ed5c541b399a82b   18.6   3.3  49.7   \n",
       "...            ...                               ...    ...   ...   ...   \n",
       "856882       0.430  29dbb42befa2f176eb50828deba50afc   77.0   3.0   6.0   \n",
       "856892       0.150  b7ab1a9260ebc1d53774714b24c02dd3   15.0  20.0  20.0   \n",
       "856895       0.160  ba0b176dc645058663de285b479163b3   50.0   1.0  28.0   \n",
       "856896       0.140  0940ce4ed3c65c5713a169bdf824dfcc   28.0   8.0  12.0   \n",
       "856900       0.878  74ec431f87644bfed9baca351fffcdee  231.0   1.0   8.0   \n",
       "\n",
       "        cargotype                      description             total_category  \\\n",
       "0             970                  впитывает запах  одежда, обувь, аксессуары   \n",
       "51            200            техника и электроника                электроника   \n",
       "52            200            техника и электроника                электроника   \n",
       "53            200            техника и электроника                электроника   \n",
       "54            200            техника и электроника                электроника   \n",
       "...           ...                              ...                        ...   \n",
       "856882        200            техника и электроника                электроника   \n",
       "856892        200            техника и электроника                электроника   \n",
       "856895        340              не требует упаковки                     прочее   \n",
       "856896        340              не требует упаковки                     прочее   \n",
       "856900        300  тяжеловесный и крупногабаритный    крупногабаритные товары   \n",
       "\n",
       "                      transportation rules  items_in_order  total_pack_volume  \\\n",
       "0       не требует особых правил перевозки               3               6138   \n",
       "51      не требует особых правил перевозки               1               3050   \n",
       "52      не требует особых правил перевозки               1               3050   \n",
       "53      не требует особых правил перевозки               1               3050   \n",
       "54      не требует особых правил перевозки               1               3050   \n",
       "...                                    ...             ...                ...   \n",
       "856882  не требует особых правил перевозки               1               1617   \n",
       "856892  не требует особых правил перевозки               4              14578   \n",
       "856895  не требует особых правил перевозки               3               5237   \n",
       "856896  не требует особых правил перевозки               1               2688   \n",
       "856900               крупногабаритный груз               4              39857   \n",
       "\n",
       "        total_pack_volume_filtered packaging  \n",
       "0                           6138.0       MYC  \n",
       "51                          3050.0       MYB  \n",
       "52                          3050.0       MYB  \n",
       "53                          3050.0       MYB  \n",
       "54                          3050.0       MYB  \n",
       "...                            ...       ...  \n",
       "856882                      1617.0       YMU  \n",
       "856892                      6800.0       MYC  \n",
       "856895                         NaN   NONPACK  \n",
       "856896                         NaN   NONPACK  \n",
       "856900                     39857.0       YME  \n",
       "\n",
       "[189728 rows x 20 columns]"
      ]
     },
     "execution_count": 57,
     "metadata": {},
     "output_type": "execute_result"
    }
   ],
   "source": [
    "df"
   ]
  },
  {
   "cell_type": "code",
   "execution_count": 58,
   "metadata": {
    "colab": {
     "base_uri": "https://localhost:8080/"
    },
    "id": "qEBGgPyUtwa7",
    "outputId": "079586b3-205a-454d-dd06-df0d04ecddb3"
   },
   "outputs": [
    {
     "data": {
      "text/plain": [
       "26"
      ]
     },
     "execution_count": 58,
     "metadata": {},
     "output_type": "execute_result"
    }
   ],
   "source": [
    "df['packaging'].nunique()"
   ]
  },
  {
   "cell_type": "code",
   "execution_count": 59,
   "metadata": {
    "colab": {
     "base_uri": "https://localhost:8080/"
    },
    "id": "iNTWMIkNtwa8",
    "outputId": "c49a1ce4-9f63-40f1-b0d7-33546fd03312"
   },
   "outputs": [],
   "source": [
    "corr_matrix = df.corr()"
   ]
  },
  {
   "cell_type": "code",
   "execution_count": 60,
   "metadata": {
    "colab": {
     "base_uri": "https://localhost:8080/",
     "height": 1000
    },
    "id": "R55sUPbRtwa8",
    "outputId": "4b16f499-1c56-4b78-ffd1-6ed1a1d9d7f1"
   },
   "outputs": [
    {
     "data": {
      "image/png": "[encoded data removed]",
      "text/plain": [
       "<Figure size 1200x1000 with 2 Axes>"
      ]
     },
     "metadata": {},
     "output_type": "display_data"
    }
   ],
   "source": [
    "# Создание тепловой карты\n",
    "plt.figure(figsize=(12, 10)) \n",
    "sns.heatmap(corr_matrix, annot=True, cmap='coolwarm', center=0)\n",
    "plt.show()"
   ]
  },
  {
   "attachments": {},
   "cell_type": "markdown",
   "metadata": {},
   "source": [
    "В данных присутствует мультиколленеарность признаков, это общий объем упаковки и отфильтрованный объем для упаковки. По факту это один и тот же признак, только отфильтрованный объем упаковки учитывает, что есть товар, для которого упаковка не требуется. Удалим лишний признак. Так же удалим еще номер коробки, сведения об id, общий объекм товаров в заказе."
   ]
  },
  {
   "cell_type": "code",
   "execution_count": 61,
   "metadata": {
    "id": "pah8FLjgtwa8"
   },
   "outputs": [],
   "source": [
    "df_new = df.drop(['box_num', 'sel_calc_cube', 'rec_calc_cube', 'orderkey', 'selected_carton', 'recommended_carton',\n",
    "                  'sku', 'cargotype', 'total_category', 'total_pack_volume'], axis=1)"
   ]
  },
  {
   "cell_type": "code",
   "execution_count": 62,
   "metadata": {
    "colab": {
     "base_uri": "https://localhost:8080/",
     "height": 424
    },
    "id": "F1ZnZsTjtwa8",
    "outputId": "fd2036ec-f6ac-4d2e-f8e2-c364527da156"
   },
   "outputs": [
    {
     "data": {
      "text/html": [
       "<div>\n",
       "<style scoped>\n",
       "    .dataframe tbody tr th:only-of-type {\n",
       "        vertical-align: middle;\n",
       "    }\n",
       "\n",
       "    .dataframe tbody tr th {\n",
       "        vertical-align: top;\n",
       "    }\n",
       "\n",
       "    .dataframe thead th {\n",
       "        text-align: right;\n",
       "    }\n",
       "</style>\n",
       "<table border=\"1\" class=\"dataframe\">\n",
       "  <thead>\n",
       "    <tr style=\"text-align: right;\">\n",
       "      <th></th>\n",
       "      <th>pack_volume</th>\n",
       "      <th>goods_wght</th>\n",
       "      <th>a</th>\n",
       "      <th>b</th>\n",
       "      <th>c</th>\n",
       "      <th>description</th>\n",
       "      <th>transportation rules</th>\n",
       "      <th>items_in_order</th>\n",
       "      <th>total_pack_volume_filtered</th>\n",
       "      <th>packaging</th>\n",
       "    </tr>\n",
       "  </thead>\n",
       "  <tbody>\n",
       "    <tr>\n",
       "      <th>0</th>\n",
       "      <td>2046</td>\n",
       "      <td>0.100</td>\n",
       "      <td>11.0</td>\n",
       "      <td>6.0</td>\n",
       "      <td>31.0</td>\n",
       "      <td>впитывает запах</td>\n",
       "      <td>не требует особых правил перевозки</td>\n",
       "      <td>3</td>\n",
       "      <td>6138.0</td>\n",
       "      <td>MYC</td>\n",
       "    </tr>\n",
       "    <tr>\n",
       "      <th>51</th>\n",
       "      <td>3050</td>\n",
       "      <td>0.896</td>\n",
       "      <td>18.6</td>\n",
       "      <td>3.3</td>\n",
       "      <td>49.7</td>\n",
       "      <td>техника и электроника</td>\n",
       "      <td>не требует особых правил перевозки</td>\n",
       "      <td>1</td>\n",
       "      <td>3050.0</td>\n",
       "      <td>MYB</td>\n",
       "    </tr>\n",
       "    <tr>\n",
       "      <th>52</th>\n",
       "      <td>3050</td>\n",
       "      <td>0.896</td>\n",
       "      <td>18.6</td>\n",
       "      <td>3.3</td>\n",
       "      <td>49.7</td>\n",
       "      <td>техника и электроника</td>\n",
       "      <td>не требует особых правил перевозки</td>\n",
       "      <td>1</td>\n",
       "      <td>3050.0</td>\n",
       "      <td>MYB</td>\n",
       "    </tr>\n",
       "    <tr>\n",
       "      <th>53</th>\n",
       "      <td>3050</td>\n",
       "      <td>0.896</td>\n",
       "      <td>18.6</td>\n",
       "      <td>3.3</td>\n",
       "      <td>49.7</td>\n",
       "      <td>техника и электроника</td>\n",
       "      <td>не требует особых правил перевозки</td>\n",
       "      <td>1</td>\n",
       "      <td>3050.0</td>\n",
       "      <td>MYB</td>\n",
       "    </tr>\n",
       "    <tr>\n",
       "      <th>54</th>\n",
       "      <td>3050</td>\n",
       "      <td>0.896</td>\n",
       "      <td>18.6</td>\n",
       "      <td>3.3</td>\n",
       "      <td>49.7</td>\n",
       "      <td>техника и электроника</td>\n",
       "      <td>не требует особых правил перевозки</td>\n",
       "      <td>1</td>\n",
       "      <td>3050.0</td>\n",
       "      <td>MYB</td>\n",
       "    </tr>\n",
       "    <tr>\n",
       "      <th>...</th>\n",
       "      <td>...</td>\n",
       "      <td>...</td>\n",
       "      <td>...</td>\n",
       "      <td>...</td>\n",
       "      <td>...</td>\n",
       "      <td>...</td>\n",
       "      <td>...</td>\n",
       "      <td>...</td>\n",
       "      <td>...</td>\n",
       "      <td>...</td>\n",
       "    </tr>\n",
       "    <tr>\n",
       "      <th>856882</th>\n",
       "      <td>1617</td>\n",
       "      <td>0.430</td>\n",
       "      <td>77.0</td>\n",
       "      <td>3.0</td>\n",
       "      <td>6.0</td>\n",
       "      <td>техника и электроника</td>\n",
       "      <td>не требует особых правил перевозки</td>\n",
       "      <td>1</td>\n",
       "      <td>1617.0</td>\n",
       "      <td>YMU</td>\n",
       "    </tr>\n",
       "    <tr>\n",
       "      <th>856892</th>\n",
       "      <td>6000</td>\n",
       "      <td>0.150</td>\n",
       "      <td>15.0</td>\n",
       "      <td>20.0</td>\n",
       "      <td>20.0</td>\n",
       "      <td>техника и электроника</td>\n",
       "      <td>не требует особых правил перевозки</td>\n",
       "      <td>4</td>\n",
       "      <td>6800.0</td>\n",
       "      <td>MYC</td>\n",
       "    </tr>\n",
       "    <tr>\n",
       "      <th>856895</th>\n",
       "      <td>1400</td>\n",
       "      <td>0.160</td>\n",
       "      <td>50.0</td>\n",
       "      <td>1.0</td>\n",
       "      <td>28.0</td>\n",
       "      <td>не требует упаковки</td>\n",
       "      <td>не требует особых правил перевозки</td>\n",
       "      <td>3</td>\n",
       "      <td>NaN</td>\n",
       "      <td>NONPACK</td>\n",
       "    </tr>\n",
       "    <tr>\n",
       "      <th>856896</th>\n",
       "      <td>2688</td>\n",
       "      <td>0.140</td>\n",
       "      <td>28.0</td>\n",
       "      <td>8.0</td>\n",
       "      <td>12.0</td>\n",
       "      <td>не требует упаковки</td>\n",
       "      <td>не требует особых правил перевозки</td>\n",
       "      <td>1</td>\n",
       "      <td>NaN</td>\n",
       "      <td>NONPACK</td>\n",
       "    </tr>\n",
       "    <tr>\n",
       "      <th>856900</th>\n",
       "      <td>1832</td>\n",
       "      <td>0.878</td>\n",
       "      <td>231.0</td>\n",
       "      <td>1.0</td>\n",
       "      <td>8.0</td>\n",
       "      <td>тяжеловесный и крупногабаритный</td>\n",
       "      <td>крупногабаритный груз</td>\n",
       "      <td>4</td>\n",
       "      <td>39857.0</td>\n",
       "      <td>YME</td>\n",
       "    </tr>\n",
       "  </tbody>\n",
       "</table>\n",
       "<p>189728 rows × 10 columns</p>\n",
       "</div>"
      ],
      "text/plain": [
       "        pack_volume  goods_wght      a     b     c  \\\n",
       "0              2046       0.100   11.0   6.0  31.0   \n",
       "51             3050       0.896   18.6   3.3  49.7   \n",
       "52             3050       0.896   18.6   3.3  49.7   \n",
       "53             3050       0.896   18.6   3.3  49.7   \n",
       "54             3050       0.896   18.6   3.3  49.7   \n",
       "...             ...         ...    ...   ...   ...   \n",
       "856882         1617       0.430   77.0   3.0   6.0   \n",
       "856892         6000       0.150   15.0  20.0  20.0   \n",
       "856895         1400       0.160   50.0   1.0  28.0   \n",
       "856896         2688       0.140   28.0   8.0  12.0   \n",
       "856900         1832       0.878  231.0   1.0   8.0   \n",
       "\n",
       "                            description                transportation rules  \\\n",
       "0                       впитывает запах  не требует особых правил перевозки   \n",
       "51                техника и электроника  не требует особых правил перевозки   \n",
       "52                техника и электроника  не требует особых правил перевозки   \n",
       "53                техника и электроника  не требует особых правил перевозки   \n",
       "54                техника и электроника  не требует особых правил перевозки   \n",
       "...                                 ...                                 ...   \n",
       "856882            техника и электроника  не требует особых правил перевозки   \n",
       "856892            техника и электроника  не требует особых правил перевозки   \n",
       "856895              не требует упаковки  не требует особых правил перевозки   \n",
       "856896              не требует упаковки  не требует особых правил перевозки   \n",
       "856900  тяжеловесный и крупногабаритный               крупногабаритный груз   \n",
       "\n",
       "        items_in_order  total_pack_volume_filtered packaging  \n",
       "0                    3                      6138.0       MYC  \n",
       "51                   1                      3050.0       MYB  \n",
       "52                   1                      3050.0       MYB  \n",
       "53                   1                      3050.0       MYB  \n",
       "54                   1                      3050.0       MYB  \n",
       "...                ...                         ...       ...  \n",
       "856882               1                      1617.0       YMU  \n",
       "856892               4                      6800.0       MYC  \n",
       "856895               3                         NaN   NONPACK  \n",
       "856896               1                         NaN   NONPACK  \n",
       "856900               4                     39857.0       YME  \n",
       "\n",
       "[189728 rows x 10 columns]"
      ]
     },
     "execution_count": 62,
     "metadata": {},
     "output_type": "execute_result"
    }
   ],
   "source": [
    "df_new"
   ]
  },
  {
   "attachments": {},
   "cell_type": "markdown",
   "metadata": {},
   "source": [
    "Добавим еще немного информации об упаковке. У нас есть названия коробок, определим их размеры и общий объем, возможно это будет полезно."
   ]
  },
  {
   "cell_type": "code",
   "execution_count": 63,
   "metadata": {
    "id": "8XoXX1YXtwa9"
   },
   "outputs": [],
   "source": [
    "carton_new.rename(columns={'selected_carton': 'packaging'}, inplace=True)"
   ]
  },
  {
   "cell_type": "code",
   "execution_count": 64,
   "metadata": {
    "id": "jZuaiAnHtwa9"
   },
   "outputs": [],
   "source": [
    "df_new = df_new.merge(carton_new, how='left', on='packaging')"
   ]
  },
  {
   "cell_type": "code",
   "execution_count": 65,
   "metadata": {
    "id": "vu3O7K2ltwa9"
   },
   "outputs": [],
   "source": [
    "df_new=df_new[df_new['items_in_order']<=10]"
   ]
  },
  {
   "cell_type": "code",
   "execution_count": 66,
   "metadata": {
    "colab": {
     "base_uri": "https://localhost:8080/",
     "height": 641
    },
    "id": "7pqyJVCmtwa9",
    "outputId": "c6939018-0055-4a73-e85b-220c3d72038c"
   },
   "outputs": [
    {
     "data": {
      "text/html": [
       "<div>\n",
       "<style scoped>\n",
       "    .dataframe tbody tr th:only-of-type {\n",
       "        vertical-align: middle;\n",
       "    }\n",
       "\n",
       "    .dataframe tbody tr th {\n",
       "        vertical-align: top;\n",
       "    }\n",
       "\n",
       "    .dataframe thead th {\n",
       "        text-align: right;\n",
       "    }\n",
       "</style>\n",
       "<table border=\"1\" class=\"dataframe\">\n",
       "  <thead>\n",
       "    <tr style=\"text-align: right;\">\n",
       "      <th></th>\n",
       "      <th>pack_volume</th>\n",
       "      <th>goods_wght</th>\n",
       "      <th>a</th>\n",
       "      <th>b</th>\n",
       "      <th>c</th>\n",
       "      <th>description</th>\n",
       "      <th>transportation rules</th>\n",
       "      <th>items_in_order</th>\n",
       "      <th>total_pack_volume_filtered</th>\n",
       "      <th>packaging</th>\n",
       "      <th>LENGTH</th>\n",
       "      <th>WIDTH</th>\n",
       "      <th>HEIGHT</th>\n",
       "      <th>carton_volume</th>\n",
       "    </tr>\n",
       "  </thead>\n",
       "  <tbody>\n",
       "    <tr>\n",
       "      <th>0</th>\n",
       "      <td>2046</td>\n",
       "      <td>0.100</td>\n",
       "      <td>11.0</td>\n",
       "      <td>6.0</td>\n",
       "      <td>31.0</td>\n",
       "      <td>впитывает запах</td>\n",
       "      <td>не требует особых правил перевозки</td>\n",
       "      <td>3</td>\n",
       "      <td>6138.0</td>\n",
       "      <td>MYC</td>\n",
       "      <td>30.0</td>\n",
       "      <td>38.0</td>\n",
       "      <td>7.4</td>\n",
       "      <td>8436.0</td>\n",
       "    </tr>\n",
       "    <tr>\n",
       "      <th>1</th>\n",
       "      <td>3050</td>\n",
       "      <td>0.896</td>\n",
       "      <td>18.6</td>\n",
       "      <td>3.3</td>\n",
       "      <td>49.7</td>\n",
       "      <td>техника и электроника</td>\n",
       "      <td>не требует особых правил перевозки</td>\n",
       "      <td>1</td>\n",
       "      <td>3050.0</td>\n",
       "      <td>MYB</td>\n",
       "      <td>22.0</td>\n",
       "      <td>32.0</td>\n",
       "      <td>4.9</td>\n",
       "      <td>3449.6</td>\n",
       "    </tr>\n",
       "    <tr>\n",
       "      <th>2</th>\n",
       "      <td>3050</td>\n",
       "      <td>0.896</td>\n",
       "      <td>18.6</td>\n",
       "      <td>3.3</td>\n",
       "      <td>49.7</td>\n",
       "      <td>техника и электроника</td>\n",
       "      <td>не требует особых правил перевозки</td>\n",
       "      <td>1</td>\n",
       "      <td>3050.0</td>\n",
       "      <td>MYB</td>\n",
       "      <td>22.0</td>\n",
       "      <td>32.0</td>\n",
       "      <td>4.9</td>\n",
       "      <td>3449.6</td>\n",
       "    </tr>\n",
       "    <tr>\n",
       "      <th>3</th>\n",
       "      <td>3050</td>\n",
       "      <td>0.896</td>\n",
       "      <td>18.6</td>\n",
       "      <td>3.3</td>\n",
       "      <td>49.7</td>\n",
       "      <td>техника и электроника</td>\n",
       "      <td>не требует особых правил перевозки</td>\n",
       "      <td>1</td>\n",
       "      <td>3050.0</td>\n",
       "      <td>MYB</td>\n",
       "      <td>22.0</td>\n",
       "      <td>32.0</td>\n",
       "      <td>4.9</td>\n",
       "      <td>3449.6</td>\n",
       "    </tr>\n",
       "    <tr>\n",
       "      <th>4</th>\n",
       "      <td>3050</td>\n",
       "      <td>0.896</td>\n",
       "      <td>18.6</td>\n",
       "      <td>3.3</td>\n",
       "      <td>49.7</td>\n",
       "      <td>техника и электроника</td>\n",
       "      <td>не требует особых правил перевозки</td>\n",
       "      <td>1</td>\n",
       "      <td>3050.0</td>\n",
       "      <td>MYB</td>\n",
       "      <td>22.0</td>\n",
       "      <td>32.0</td>\n",
       "      <td>4.9</td>\n",
       "      <td>3449.6</td>\n",
       "    </tr>\n",
       "    <tr>\n",
       "      <th>...</th>\n",
       "      <td>...</td>\n",
       "      <td>...</td>\n",
       "      <td>...</td>\n",
       "      <td>...</td>\n",
       "      <td>...</td>\n",
       "      <td>...</td>\n",
       "      <td>...</td>\n",
       "      <td>...</td>\n",
       "      <td>...</td>\n",
       "      <td>...</td>\n",
       "      <td>...</td>\n",
       "      <td>...</td>\n",
       "      <td>...</td>\n",
       "      <td>...</td>\n",
       "    </tr>\n",
       "    <tr>\n",
       "      <th>189723</th>\n",
       "      <td>1617</td>\n",
       "      <td>0.430</td>\n",
       "      <td>77.0</td>\n",
       "      <td>3.0</td>\n",
       "      <td>6.0</td>\n",
       "      <td>техника и электроника</td>\n",
       "      <td>не требует особых правил перевозки</td>\n",
       "      <td>1</td>\n",
       "      <td>1617.0</td>\n",
       "      <td>YMU</td>\n",
       "      <td>27.0</td>\n",
       "      <td>24.0</td>\n",
       "      <td>4.0</td>\n",
       "      <td>2592.0</td>\n",
       "    </tr>\n",
       "    <tr>\n",
       "      <th>189724</th>\n",
       "      <td>6000</td>\n",
       "      <td>0.150</td>\n",
       "      <td>15.0</td>\n",
       "      <td>20.0</td>\n",
       "      <td>20.0</td>\n",
       "      <td>техника и электроника</td>\n",
       "      <td>не требует особых правил перевозки</td>\n",
       "      <td>4</td>\n",
       "      <td>6800.0</td>\n",
       "      <td>MYC</td>\n",
       "      <td>30.0</td>\n",
       "      <td>38.0</td>\n",
       "      <td>7.4</td>\n",
       "      <td>8436.0</td>\n",
       "    </tr>\n",
       "    <tr>\n",
       "      <th>189725</th>\n",
       "      <td>1400</td>\n",
       "      <td>0.160</td>\n",
       "      <td>50.0</td>\n",
       "      <td>1.0</td>\n",
       "      <td>28.0</td>\n",
       "      <td>не требует упаковки</td>\n",
       "      <td>не требует особых правил перевозки</td>\n",
       "      <td>3</td>\n",
       "      <td>NaN</td>\n",
       "      <td>NONPACK</td>\n",
       "      <td>0.0</td>\n",
       "      <td>0.0</td>\n",
       "      <td>0.0</td>\n",
       "      <td>0.0</td>\n",
       "    </tr>\n",
       "    <tr>\n",
       "      <th>189726</th>\n",
       "      <td>2688</td>\n",
       "      <td>0.140</td>\n",
       "      <td>28.0</td>\n",
       "      <td>8.0</td>\n",
       "      <td>12.0</td>\n",
       "      <td>не требует упаковки</td>\n",
       "      <td>не требует особых правил перевозки</td>\n",
       "      <td>1</td>\n",
       "      <td>NaN</td>\n",
       "      <td>NONPACK</td>\n",
       "      <td>0.0</td>\n",
       "      <td>0.0</td>\n",
       "      <td>0.0</td>\n",
       "      <td>0.0</td>\n",
       "    </tr>\n",
       "    <tr>\n",
       "      <th>189727</th>\n",
       "      <td>1832</td>\n",
       "      <td>0.878</td>\n",
       "      <td>231.0</td>\n",
       "      <td>1.0</td>\n",
       "      <td>8.0</td>\n",
       "      <td>тяжеловесный и крупногабаритный</td>\n",
       "      <td>крупногабаритный груз</td>\n",
       "      <td>4</td>\n",
       "      <td>39857.0</td>\n",
       "      <td>YME</td>\n",
       "      <td>30.0</td>\n",
       "      <td>30.0</td>\n",
       "      <td>44.5</td>\n",
       "      <td>40050.0</td>\n",
       "    </tr>\n",
       "  </tbody>\n",
       "</table>\n",
       "<p>185833 rows × 14 columns</p>\n",
       "</div>"
      ],
      "text/plain": [
       "        pack_volume  goods_wght      a     b     c  \\\n",
       "0              2046       0.100   11.0   6.0  31.0   \n",
       "1              3050       0.896   18.6   3.3  49.7   \n",
       "2              3050       0.896   18.6   3.3  49.7   \n",
       "3              3050       0.896   18.6   3.3  49.7   \n",
       "4              3050       0.896   18.6   3.3  49.7   \n",
       "...             ...         ...    ...   ...   ...   \n",
       "189723         1617       0.430   77.0   3.0   6.0   \n",
       "189724         6000       0.150   15.0  20.0  20.0   \n",
       "189725         1400       0.160   50.0   1.0  28.0   \n",
       "189726         2688       0.140   28.0   8.0  12.0   \n",
       "189727         1832       0.878  231.0   1.0   8.0   \n",
       "\n",
       "                            description                transportation rules  \\\n",
       "0                       впитывает запах  не требует особых правил перевозки   \n",
       "1                 техника и электроника  не требует особых правил перевозки   \n",
       "2                 техника и электроника  не требует особых правил перевозки   \n",
       "3                 техника и электроника  не требует особых правил перевозки   \n",
       "4                 техника и электроника  не требует особых правил перевозки   \n",
       "...                                 ...                                 ...   \n",
       "189723            техника и электроника  не требует особых правил перевозки   \n",
       "189724            техника и электроника  не требует особых правил перевозки   \n",
       "189725              не требует упаковки  не требует особых правил перевозки   \n",
       "189726              не требует упаковки  не требует особых правил перевозки   \n",
       "189727  тяжеловесный и крупногабаритный               крупногабаритный груз   \n",
       "\n",
       "        items_in_order  total_pack_volume_filtered packaging  LENGTH  WIDTH  \\\n",
       "0                    3                      6138.0       MYC    30.0   38.0   \n",
       "1                    1                      3050.0       MYB    22.0   32.0   \n",
       "2                    1                      3050.0       MYB    22.0   32.0   \n",
       "3                    1                      3050.0       MYB    22.0   32.0   \n",
       "4                    1                      3050.0       MYB    22.0   32.0   \n",
       "...                ...                         ...       ...     ...    ...   \n",
       "189723               1                      1617.0       YMU    27.0   24.0   \n",
       "189724               4                      6800.0       MYC    30.0   38.0   \n",
       "189725               3                         NaN   NONPACK     0.0    0.0   \n",
       "189726               1                         NaN   NONPACK     0.0    0.0   \n",
       "189727               4                     39857.0       YME    30.0   30.0   \n",
       "\n",
       "        HEIGHT  carton_volume  \n",
       "0          7.4         8436.0  \n",
       "1          4.9         3449.6  \n",
       "2          4.9         3449.6  \n",
       "3          4.9         3449.6  \n",
       "4          4.9         3449.6  \n",
       "...        ...            ...  \n",
       "189723     4.0         2592.0  \n",
       "189724     7.4         8436.0  \n",
       "189725     0.0            0.0  \n",
       "189726     0.0            0.0  \n",
       "189727    44.5        40050.0  \n",
       "\n",
       "[185833 rows x 14 columns]"
      ]
     },
     "execution_count": 66,
     "metadata": {},
     "output_type": "execute_result"
    }
   ],
   "source": [
    "df_new"
   ]
  },
  {
   "attachments": {},
   "cell_type": "markdown",
   "metadata": {
    "id": "Q4l5fCh0twa9"
   },
   "source": [
    "# Обучение"
   ]
  },
  {
   "cell_type": "code",
   "execution_count": 73,
   "metadata": {
    "id": "IYgYYe7Utwa-"
   },
   "outputs": [],
   "source": [
    "# Разделение на признаки (X) и целевой признак (y)\n",
    "X = df_new.drop('packaging', axis=1)\n",
    "y = df_new['packaging']"
   ]
  },
  {
   "cell_type": "code",
   "execution_count": 74,
   "metadata": {
    "id": "FlPp1dVOtwa-"
   },
   "outputs": [],
   "source": [
    "# Разделение на обучающий и тестовый наборы данных\n",
    "X_train, X_test, y_train, y_test = train_test_split(X, y, test_size=0.30, random_state=42, stratify=y)"
   ]
  },
  {
   "cell_type": "code",
   "execution_count": 75,
   "metadata": {
    "colab": {
     "base_uri": "https://localhost:8080/"
    },
    "id": "fVow5jaDtwa-",
    "outputId": "01df9bc7-e449-4d00-ecca-5bcaebc24a47"
   },
   "outputs": [
    {
     "data": {
      "text/plain": [
       "(130083, 13)"
      ]
     },
     "execution_count": 75,
     "metadata": {},
     "output_type": "execute_result"
    }
   ],
   "source": [
    "X_train.shape"
   ]
  },
  {
   "cell_type": "code",
   "execution_count": 76,
   "metadata": {
    "colab": {
     "base_uri": "https://localhost:8080/"
    },
    "id": "nlY2WhlOtwa_",
    "outputId": "e66d0d52-1995-4f71-cc38-3bbcbce92490"
   },
   "outputs": [
    {
     "name": "stdout",
     "output_type": "stream",
     "text": [
      "<class 'pandas.core.frame.DataFrame'>\n",
      "Int64Index: 130083 entries, 64348 to 172837\n",
      "Data columns (total 13 columns):\n",
      " #   Column                      Non-Null Count   Dtype  \n",
      "---  ------                      --------------   -----  \n",
      " 0   pack_volume                 130083 non-null  int64  \n",
      " 1   goods_wght                  130083 non-null  float64\n",
      " 2   a                           130083 non-null  float64\n",
      " 3   b                           130083 non-null  float64\n",
      " 4   c                           130083 non-null  float64\n",
      " 5   description                 130083 non-null  object \n",
      " 6   transportation rules        130083 non-null  object \n",
      " 7   items_in_order              130083 non-null  int64  \n",
      " 8   total_pack_volume_filtered  116333 non-null  float64\n",
      " 9   LENGTH                      130083 non-null  float64\n",
      " 10  WIDTH                       130083 non-null  float64\n",
      " 11  HEIGHT                      130083 non-null  float64\n",
      " 12  carton_volume               130083 non-null  float64\n",
      "dtypes: float64(9), int64(2), object(2)\n",
      "memory usage: 13.9+ MB\n"
     ]
    }
   ],
   "source": [
    "X_train.info()"
   ]
  },
  {
   "attachments": {},
   "cell_type": "markdown",
   "metadata": {
    "id": "SE6X1DQttwa_"
   },
   "source": [
    "## Модель"
   ]
  },
  {
   "cell_type": "code",
   "execution_count": 77,
   "metadata": {
    "id": "vB7D_k2_twbA"
   },
   "outputs": [],
   "source": [
    "cat_features = [5, 6]"
   ]
  },
  {
   "cell_type": "code",
   "execution_count": 78,
   "metadata": {
    "id": "r20H1R0KtwbA"
   },
   "outputs": [],
   "source": [
    "# Создание экземпляра LabelEncoder\n",
    "label_encoder = LabelEncoder()\n",
    "\n",
    "# Применение Label Encoding к целевой переменной y_train\n",
    "y_train_encoded = label_encoder.fit_transform(y_train)\n",
    "y_test_encoded = label_encoder.transform(y_test)"
   ]
  },
  {
   "cell_type": "code",
   "execution_count": 79,
   "metadata": {
    "id": "ho_7tlfmtwbA"
   },
   "outputs": [],
   "source": [
    "base_model = CatBoostClassifier(\n",
    "    iterations= 1000, # сколько деревьев в ансамбле\n",
    "    #learning_rate=0.5, #регурялизация бустинга\n",
    "    early_stopping_rounds=20, #ограничение на обучение (в данном случае если 20 эпох подряд качество ухудшается модель перестает обучаться)\n",
    "    loss_function='MultiClass',\n",
    "    random_seed=42,\n",
    "    train_dir='base_model',\n",
    "    verbose=0 #если вербосс = 0, модель не будет выводить на экран процесс обучения\n",
    ")"
   ]
  },
  {
   "cell_type": "code",
   "execution_count": 80,
   "metadata": {
    "id": "oSf7Faf0twbA"
   },
   "outputs": [],
   "source": [
    "X_train, X_val, y_train, y_val = train_test_split(X_train, y_train_encoded, test_size=0.40, random_state=42)"
   ]
  },
  {
   "cell_type": "code",
   "execution_count": 81,
   "metadata": {
    "colab": {
     "base_uri": "https://localhost:8080/"
    },
    "id": "QoBDuFzGtwbA",
    "outputId": "d0deffb0-b6fc-449b-af3c-b5725979ce25"
   },
   "outputs": [
    {
     "data": {
      "text/plain": [
       "<catboost.core.CatBoostClassifier at 0x22916ce9e80>"
      ]
     },
     "execution_count": 81,
     "metadata": {},
     "output_type": "execute_result"
    }
   ],
   "source": [
    "base_model.fit(\n",
    "    X_train, y_train,\n",
    "    cat_features=cat_features, eval_set = (X_val, y_val))"
   ]
  },
  {
   "cell_type": "code",
   "execution_count": 83,
   "metadata": {
    "id": "Pqi7AkwwtwbB"
   },
   "outputs": [],
   "source": [
    "y_pred_proba = base_model.predict_proba(X_test)"
   ]
  },
  {
   "cell_type": "code",
   "execution_count": 95,
   "metadata": {
    "id": "y6YhHdlVtwbB"
   },
   "outputs": [],
   "source": [
    "# Раскодирование предсказанных вероятностей\n",
    "y_pred = label_encoder.inverse_transform(np.argmax(y_pred_proba, axis=1))"
   ]
  },
  {
   "attachments": {},
   "cell_type": "markdown",
   "metadata": {},
   "source": [
    "Метрики, которые будем использовать для оценки качества:\n",
    "\n",
    "F1-мера - является гармоническим средним между precision и recall. \n",
    "\n",
    "ROC AUC - измеряет способность модели разделять классы, усредняя площадь под кривой полученной из ROC-кривой. Он особенно полезен, когда важно оценить общую способность модели различать классы, независимо от выбора порога для принятия решения."
   ]
  },
  {
   "cell_type": "code",
   "execution_count": 96,
   "metadata": {},
   "outputs": [
    {
     "name": "stdout",
     "output_type": "stream",
     "text": [
      "F1-мера: 1.0\n"
     ]
    }
   ],
   "source": [
    "# Преобразование вероятностей в метки классов\n",
    "y_pred_labels = np.argmax(y_pred_proba, axis=1)\n",
    "\n",
    "# Расчет F1-меры для мультиклассовой классификации\n",
    "f1_score = f1_score(y_test_encoded, y_pred_labels, average='macro')\n",
    "print(\"F1-мера:\", f1_score)"
   ]
  },
  {
   "attachments": {},
   "cell_type": "markdown",
   "metadata": {},
   "source": [
    "Если F1-мера равна 1.0, это означает, что модель идеально предсказывает метки классов для данного набора данных и достигает идеального баланса между точностью и полнотой. \n",
    "\n",
    "Возможно, что данные в выборке слишком просты, или модель переобучена."
   ]
  },
  {
   "cell_type": "code",
   "execution_count": 93,
   "metadata": {
    "id": "6t-_CL2ltwbB"
   },
   "outputs": [],
   "source": [
    "roc_auc = roc_auc_score(y_test_encoded, y_pred_proba, multi_class='ovr')  # используйте multi_class='ovr' для ROC AUC в мультиклассовой классификации"
   ]
  },
  {
   "cell_type": "code",
   "execution_count": 94,
   "metadata": {
    "colab": {
     "base_uri": "https://localhost:8080/"
    },
    "id": "vhl-_drUtwbB",
    "outputId": "3175a9f3-8764-4776-c84d-24c67892f5a7"
   },
   "outputs": [
    {
     "data": {
      "text/plain": [
       "1.0"
      ]
     },
     "execution_count": 94,
     "metadata": {},
     "output_type": "execute_result"
    }
   ],
   "source": [
    "roc_auc"
   ]
  },
  {
   "attachments": {},
   "cell_type": "markdown",
   "metadata": {},
   "source": [
    "Значение ROC AUC 1.0 указывает на то, что модель идеально разделяет положительные и отрицательные классы для всех объектов.\n",
    "\n",
    "Если обе метрики равны 1.0, это явно указывает на переобучение модели.\n",
    "\n",
    "Рекомендуется провести проверку на других наборах данных для получения более полной картины о производительности модели."
   ]
  },
  {
   "cell_type": "code",
   "execution_count": 112,
   "metadata": {
    "colab": {
     "base_uri": "https://localhost:8080/",
     "height": 444
    },
    "id": "PZzts1JmtwbC",
    "outputId": "63df9cfc-1887-466f-bd71-fafd2917822f"
   },
   "outputs": [
    {
     "data": {
      "image/png": "[encoded data removed]",
      "text/plain": [
       "<Figure size 1000x800 with 2 Axes>"
      ]
     },
     "metadata": {},
     "output_type": "display_data"
    }
   ],
   "source": [
    "# Создание матрицы ошибок\n",
    "cm = ConfusionMatrixDisplay.from_predictions(y_test, y_pred)\n",
    "\n",
    "# Установка размера графика\n",
    "plt.rc('figure', figsize=(10, 8))\n"
   ]
  },
  {
   "cell_type": "code",
   "execution_count": 114,
   "metadata": {
    "id": "Vmh54f5NA7LP"
   },
   "outputs": [],
   "source": [
    "# Сохранение модели в файл\n",
    "with open(\"file.pcl\", \"wb\") as fid:\n",
    "    pickle.dump(base_model, fid)"
   ]
  },
  {
   "attachments": {},
   "cell_type": "markdown",
   "metadata": {},
   "source": [
    "Вывод:\n",
    "\n",
    "Была использована базовая модель CatBoost, задача мультиклассификации решена, но к сожалению модель переобучена, и показывает идеальные результаты на этапе ее оценки. Из матрицы ошибок мы видим, что все классы она предсказала верно, возможно это указывает на то, что данные для модели слишком простые."
   ]
  }
 ],
 "metadata": {
  "accelerator": "GPU",
  "colab": {
   "gpuType": "T4",
   "provenance": []
  },
  "kernelspec": {
   "display_name": "Python 3 (ipykernel)",
   "language": "python",
   "name": "python3"
  },
  "language_info": {
   "codemirror_mode": {
    "name": "ipython",
    "version": 3
   },
   "file_extension": ".py",
   "mimetype": "text/x-python",
   "name": "python",
   "nbconvert_exporter": "python",
   "pygments_lexer": "ipython3",
   "version": "3.9.12"
  }
 },
 "nbformat": 4,
 "nbformat_minor": 1
}
